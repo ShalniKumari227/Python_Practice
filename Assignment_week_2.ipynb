{
 "cells": [
  {
   "cell_type": "markdown",
   "id": "d09e0843",
   "metadata": {},
   "source": [
    "# Assignment-5"
   ]
  },
  {
   "cell_type": "code",
   "execution_count": 1,
   "id": "504ee0fa",
   "metadata": {},
   "outputs": [],
   "source": [
    "# 1.What is a for loop in Python, and when would you typically use it?"
   ]
  },
  {
   "cell_type": "code",
   "execution_count": null,
   "id": "90e02948",
   "metadata": {},
   "outputs": [],
   "source": [
    "A for loop in Python is used for iterating over a sequence (such as a list, tuple, string, or range) or other iterable objects. \n",
    "It allows you to execute a block of code repeatedly, once for each item in the sequence. \n",
    "\n",
    "When we know the number of iteration then we use for loop."
   ]
  },
  {
   "cell_type": "code",
   "execution_count": null,
   "id": "6b6b66db",
   "metadata": {},
   "outputs": [],
   "source": [
    "# 2.Explain the syntax of a basic for loop in Python."
   ]
  },
  {
   "cell_type": "code",
   "execution_count": null,
   "id": "b5e23f91",
   "metadata": {},
   "outputs": [],
   "source": [
    "The basic structure is as follows:\n",
    "    for item in iterable:\n",
    "    # Code to be executed for each item\n",
    "    # This block must be indented\n",
    "    \n",
    "Explanation of Components:\n",
    "for keyword: This initiates the for loop.\n",
    "item: This is a variable that takes on the value of each element in the iterable during each iteration of the loop. \n",
    "      You can choose any valid variable name for item.\n",
    "in keyword: This keyword indicates that the loop will iterate through the elements within the specified iterable.\n",
    "iterable: This is the sequence or object you want to iterate over. \n",
    "Colon (:): This marks the end of the for loop header.\n",
    "Indented Block: The code that needs to be executed repeatedly for each item in the iterable must be indented consistently\n",
    "                (typically 4 spaces) after the for loop header. This indentation defines the scope of the loop."
   ]
  },
  {
   "cell_type": "code",
   "execution_count": null,
   "id": "22e7af29",
   "metadata": {},
   "outputs": [],
   "source": [
    "# 3.What is an iterable? Give a few examples of built-in iterables in Python that are commonly used with for loops."
   ]
  },
  {
   "cell_type": "code",
   "execution_count": null,
   "id": "9dc9f96c",
   "metadata": {},
   "outputs": [],
   "source": [
    "An iterable is an object that can be iterated over, meaning you can traverse through its elements one by one.\n",
    "This allows you to use them in contexts like for loops, list comprehensions, or with functions like sum() or max().\n",
    "Examples include:   Lists: [1, 2, 3]\n",
    "                    Tuples: ('a', 'b', 'c')\n",
    "                    Strings: \"hello\"\n",
    "                    range() function: range(5) (generates numbers from 0 to 4)"
   ]
  },
  {
   "cell_type": "code",
   "execution_count": null,
   "id": "f0400c5f",
   "metadata": {},
   "outputs": [],
   "source": [
    "# 4.How can you iterate through the characters of a string using a for loop?"
   ]
  },
  {
   "cell_type": "code",
   "execution_count": null,
   "id": "2905e569",
   "metadata": {},
   "outputs": [],
   "source": [
    "Iterating through the characters of a string using a for loop is a common operation in many programming languages. \n",
    "The specific syntax and approach may vary slightly depending on the language.\n",
    "\n",
    "In languages like Python, strings are inherently iterable, meaning they can be directly used in a for loop to access each \n",
    "character sequentially."
   ]
  },
  {
   "cell_type": "code",
   "execution_count": null,
   "id": "d18458ee",
   "metadata": {},
   "outputs": [],
   "source": [
    "# 5.What is the purpose of the range() function when used with a for loop? Give a simple example."
   ]
  },
  {
   "cell_type": "code",
   "execution_count": 15,
   "id": "04b94578",
   "metadata": {},
   "outputs": [],
   "source": [
    "range() allows the user to generate a series of numbers within a given range.\n",
    "for example printing number will be easier by using range.\n",
    "\n",
    "synatx: range(start,end,step)\n",
    "        default start is 0.\n",
    "        end is mandatory we have to specify end to prevent infinite loop.\n",
    "        default step is 1."
   ]
  },
  {
   "cell_type": "code",
   "execution_count": 16,
   "id": "5025b1c9",
   "metadata": {},
   "outputs": [
    {
     "name": "stdout",
     "output_type": "stream",
     "text": [
      "0 1 2 3 4 5 6 7 8 9 10 "
     ]
    }
   ],
   "source": [
    "for i in range(11):\n",
    "    print(i,end=\" \")"
   ]
  },
  {
   "cell_type": "code",
   "execution_count": null,
   "id": "68dd2860",
   "metadata": {},
   "outputs": [],
   "source": [
    "# 6.Can you have a for loop inside another for loop? If so, what is this called?"
   ]
  },
  {
   "cell_type": "code",
   "execution_count": null,
   "id": "856a5353",
   "metadata": {},
   "outputs": [],
   "source": [
    "Yes, we can have for loop inside for loop that is called nested for loop.\n",
    "e.g.,"
   ]
  },
  {
   "cell_type": "code",
   "execution_count": 2,
   "id": "63181983",
   "metadata": {},
   "outputs": [
    {
     "name": "stdout",
     "output_type": "stream",
     "text": [
      " factorial of 1 is :1\n",
      " factorial of 2 is :2\n",
      " factorial of 3 is :3\n",
      " factorial of 4 is :8\n",
      " factorial of 5 is :5\n",
      " factorial of 6 is :36\n",
      " factorial of 7 is :7\n",
      " factorial of 8 is :64\n",
      " factorial of 9 is :27\n",
      " factorial of 10 is :100\n"
     ]
    }
   ],
   "source": [
    "for i in range(1,11):\n",
    "    print(\" factorial of\",i,\"is :\",end=\"\")\n",
    "    fact=1\n",
    "    for j in range(1,i+1):\n",
    "        if i%j==0:\n",
    "            fact*=j\n",
    "    print(fact)"
   ]
  },
  {
   "cell_type": "code",
   "execution_count": null,
   "id": "2668671a",
   "metadata": {},
   "outputs": [],
   "source": [
    "# 7.What is a while loop in Python, and when would you typically use it?"
   ]
  },
  {
   "cell_type": "code",
   "execution_count": null,
   "id": "4ae8232e",
   "metadata": {},
   "outputs": [],
   "source": [
    "while loop is also used to execute block of code multiple times just like for loop.\n",
    "The only difference apart from syntax is, when we don't know the number of iteration then we use while loop.\n",
    "In while loop we have to write the termination code unlike for loop where we write the no. of iteration."
   ]
  },
  {
   "cell_type": "code",
   "execution_count": null,
   "id": "fd92af46",
   "metadata": {},
   "outputs": [],
   "source": [
    "# 8.Explain the syntax of a basic while loop in Python. What is the condition?"
   ]
  },
  {
   "cell_type": "code",
   "execution_count": null,
   "id": "4d4ac251",
   "metadata": {},
   "outputs": [],
   "source": [
    "A while loop in Python repeatedly executes a block of code as long as a specified condition remains true. The loop continues to\n",
    "iterate, checking the condition at the beginning of each iteration, until the condition evaluates to false.\n",
    "\n",
    "syntax:  while condition:\n",
    "            # Code to be executed repeatedly\n",
    "            # (Indented block)\n",
    "            \n",
    "Explanation:\n",
    "while keyword: This initiates the while loop.\n",
    "condition: This is a boolean expression that is evaluated before each iteration. \n",
    "    If the condition is True, the code block inside the loop is executed. \n",
    "    If it becomes False, the loop terminates, and the program control moves to the statement immediately following the loop.\n",
    "Indentation: The code block to be executed repeatedly must be indented consistently within the while loop. \n",
    "    This indentation defines the scope of the loop."
   ]
  },
  {
   "cell_type": "code",
   "execution_count": null,
   "id": "7df7a069",
   "metadata": {},
   "outputs": [],
   "source": [
    "# 9.What is an infinite loop? How can you accidentally create one with a while \n",
    "# loop, and how can you prevent it?"
   ]
  },
  {
   "cell_type": "code",
   "execution_count": null,
   "id": "cfa0db73",
   "metadata": {},
   "outputs": [],
   "source": [
    "when the loop executes infinite times then it is called infinite loop. when we forgot to write the termination code in while\n",
    "loop. To prevent this type of problem it is mandatory to write termination code."
   ]
  },
  {
   "cell_type": "code",
   "execution_count": null,
   "id": "3a2ae146",
   "metadata": {},
   "outputs": [],
   "source": [
    "# 10.How do the break and continue statements work within a while loop?"
   ]
  },
  {
   "cell_type": "code",
   "execution_count": null,
   "id": "2d66e7ec",
   "metadata": {},
   "outputs": [],
   "source": [
    "break keyword is used to come out of the loop at any certain condition or to stop loop at any point,\n",
    "whereas continue keyword is used to skip any iteration based on condition."
   ]
  },
  {
   "cell_type": "markdown",
   "id": "f86ff4ea",
   "metadata": {},
   "source": [
    "# Assignment-6"
   ]
  },
  {
   "cell_type": "code",
   "execution_count": null,
   "id": "a4ff82ad",
   "metadata": {},
   "outputs": [],
   "source": [
    "# 1. Write a program that takes a sentence as input. Capitalize the first letter of the sentence and \n",
    "# print the modified sentence."
   ]
  },
  {
   "cell_type": "code",
   "execution_count": 4,
   "id": "0463a142",
   "metadata": {},
   "outputs": [
    {
     "name": "stdout",
     "output_type": "stream",
     "text": [
      "Enter a sentence: this is good.\n",
      "This is good.\n"
     ]
    }
   ],
   "source": [
    "line=input(\"Enter a sentence: \")\n",
    "line2=line.capitalize()\n",
    "print(line2)"
   ]
  },
  {
   "cell_type": "code",
   "execution_count": null,
   "id": "89d36838",
   "metadata": {},
   "outputs": [],
   "source": [
    "# 2. Write a program that takes a string as input. Convert the entire string \n",
    "# to lowercase and print it."
   ]
  },
  {
   "cell_type": "code",
   "execution_count": 5,
   "id": "96141def",
   "metadata": {},
   "outputs": [
    {
     "name": "stdout",
     "output_type": "stream",
     "text": [
      "Enter a sentence: I'm learning python.\n",
      "i'm learning python.\n"
     ]
    }
   ],
   "source": [
    "line=input(\"Enter a sentence: \")\n",
    "line2=line.lower()\n",
    "print(line2)"
   ]
  },
  {
   "cell_type": "code",
   "execution_count": null,
   "id": "07741108",
   "metadata": {},
   "outputs": [],
   "source": [
    "# 3. Write a program that takes a string as input. Convert the entire string to uppercase and print it."
   ]
  },
  {
   "cell_type": "code",
   "execution_count": 6,
   "id": "904378a7",
   "metadata": {},
   "outputs": [
    {
     "name": "stdout",
     "output_type": "stream",
     "text": [
      "Enter a sentence: dr. rajendra prasad\n",
      "DR. RAJENDRA PRASAD\n"
     ]
    }
   ],
   "source": [
    "line=input(\"Enter a sentence: \")\n",
    "print(line.upper())"
   ]
  },
  {
   "cell_type": "code",
   "execution_count": null,
   "id": "aedb56c7",
   "metadata": {},
   "outputs": [],
   "source": [
    "# 5. Write a program that takes a string with leading spaces as input. Remove the leading spaces and print the stripped string."
   ]
  },
  {
   "cell_type": "code",
   "execution_count": 7,
   "id": "42c7930a",
   "metadata": {},
   "outputs": [
    {
     "name": "stdout",
     "output_type": "stream",
     "text": [
      "Enter a sentence:        Hello! Good Morning.     \n",
      "32\n",
      "after stripped\n",
      "25\n",
      "Hello! Good Morning.     \n"
     ]
    }
   ],
   "source": [
    "sentence=input(\"Enter a sentence: \")\n",
    "sen2= sentence.lstrip()\n",
    "print(len(sentence))\n",
    "print(\"after stripped\")\n",
    "print(len(sen2))\n",
    "print(sen2)"
   ]
  },
  {
   "cell_type": "code",
   "execution_count": null,
   "id": "94121053",
   "metadata": {},
   "outputs": [],
   "source": [
    "# 6. Write a program that takes a string with trailing spaces as input. Remove trailing spaces and print the stripped string."
   ]
  },
  {
   "cell_type": "code",
   "execution_count": 8,
   "id": "4dfc3dbe",
   "metadata": {},
   "outputs": [
    {
     "name": "stdout",
     "output_type": "stream",
     "text": [
      "Enter a sentence:        Hello! Good Morning.     \n",
      "32\n",
      "after stripped\n",
      "27\n",
      "       Hello! Good Morning.\n"
     ]
    }
   ],
   "source": [
    "sentence=input(\"Enter a sentence: \")\n",
    "sen2= sentence.rstrip()\n",
    "print(len(sentence))\n",
    "print(\"after stripped\")\n",
    "print(len(sen2))\n",
    "print(sen2)"
   ]
  },
  {
   "cell_type": "code",
   "execution_count": null,
   "id": "bae3d881",
   "metadata": {},
   "outputs": [],
   "source": [
    "# 7. WAP that takes a string with leading and trailing spaces as input. Remove both leading and trailing spaces and print \n",
    "# the stripped string."
   ]
  },
  {
   "cell_type": "code",
   "execution_count": 9,
   "id": "fb6bfbd0",
   "metadata": {},
   "outputs": [
    {
     "name": "stdout",
     "output_type": "stream",
     "text": [
      "Enter a sentence:         Hello! Good Morning.     \n",
      "33\n",
      "after stripped\n",
      "20\n",
      "Hello! Good Morning.\n"
     ]
    }
   ],
   "source": [
    "sentence=input(\"Enter a sentence: \")\n",
    "sen2= sentence.strip()\n",
    "print(len(sentence))\n",
    "print(\"after stripped\")\n",
    "print(len(sen2))\n",
    "print(sen2)"
   ]
  },
  {
   "cell_type": "code",
   "execution_count": null,
   "id": "d65be1f4",
   "metadata": {},
   "outputs": [],
   "source": [
    "# 8. Write a program that takes a sentence and two words (old and new) as input. Replace all occurrences of the old word \n",
    "# with the new word in the sentence and print the result."
   ]
  },
  {
   "cell_type": "code",
   "execution_count": 10,
   "id": "a6b3e59e",
   "metadata": {},
   "outputs": [
    {
     "name": "stdout",
     "output_type": "stream",
     "text": [
      "Enter a sentence: Python has three primitive loop.\n",
      "Enter word which you want to replace: three\n",
      "Enter word to replace with: two\n",
      "number of word which you want to relpace :1\n",
      "Python has two primitive loop.\n"
     ]
    }
   ],
   "source": [
    "sentence=input(\"Enter a sentence: \")\n",
    "old=input(\"Enter word which you want to replace: \")\n",
    "new= input(\"Enter word to replace with: \")\n",
    "count=int(input(\"number of word which you want to relpace :\"))\n",
    "\n",
    "if count<=sentence.count(old):\n",
    "    print(sentence.replace(old,new,count))\n",
    "else:\n",
    "    print(\"Invalid count\")"
   ]
  },
  {
   "cell_type": "code",
   "execution_count": null,
   "id": "336b92ec",
   "metadata": {},
   "outputs": [],
   "source": [
    "# 9. Write a program that takes a string and a character as input. Count the number of times the character appears in the string\n",
    "# (case-insensitive) using a loop and conditional statements (or directly with count() after converting the string to a \n",
    "# single case)."
   ]
  },
  {
   "cell_type": "code",
   "execution_count": 17,
   "id": "d9974dc2",
   "metadata": {},
   "outputs": [
    {
     "name": "stdout",
     "output_type": "stream",
     "text": [
      "Enter a sentence: The python is the most important. \n",
      "count before convertion: \n",
      "1\n",
      "count after convertion: \n",
      "2\n"
     ]
    }
   ],
   "source": [
    "sentence=input(\"Enter a sentence: \")\n",
    "print(\"count before convertion: \")\n",
    "print(sentence.count(\"the\"))\n",
    "print(\"count after convertion: \")\n",
    "sentence=sentence.lower()\n",
    "print(sentence.count(\"the\"))"
   ]
  },
  {
   "cell_type": "code",
   "execution_count": null,
   "id": "f4b9367b",
   "metadata": {},
   "outputs": [],
   "source": [
    "# 10. Write a program that takes a string and a substring as input. Find the index of the first occurrence of the substring. \n",
    "# If the substring is not found, print a message indicating that."
   ]
  },
  {
   "cell_type": "code",
   "execution_count": 35,
   "id": "30101ad8",
   "metadata": {},
   "outputs": [
    {
     "name": "stdout",
     "output_type": "stream",
     "text": [
      "Enter string: python is a high level programming language\n",
      "Enter substring: high\n",
      "12\n"
     ]
    }
   ],
   "source": [
    "string=input(\"Enter string: \")\n",
    "sub=input(\"Enter substring: \")\n",
    "\n",
    "if string.find(sub):\n",
    "    print(string.find(sub))\n",
    "else:\n",
    "    print(\"Not found.\")"
   ]
  },
  {
   "cell_type": "code",
   "execution_count": null,
   "id": "299c2a67",
   "metadata": {},
   "outputs": [],
   "source": [
    "# 11. Write a program that takes a string and a substring as input. Find all occurrences of the substring in the string \n",
    "# using a while loop and the find() method. Print the starting index of each occurrence."
   ]
  },
  {
   "cell_type": "code",
   "execution_count": 45,
   "id": "2b524482",
   "metadata": {},
   "outputs": [
    {
     "name": "stdout",
     "output_type": "stream",
     "text": [
      "Enter string: banana\n",
      "Enter substring: ana\n",
      "occurence found at index 1\n",
      "occurence found at index 3\n"
     ]
    }
   ],
   "source": [
    "string=input(\"Enter string: \")\n",
    "sub=input(\"Enter substring: \")\n",
    "\n",
    "start=0\n",
    "found=0\n",
    "\n",
    "while True:\n",
    "    found=string.find(sub,start)\n",
    "    if found==-1:\n",
    "        break\n",
    "    else:\n",
    "        print(\"occurence found at index\",found)\n",
    "        start=found+1\n"
   ]
  },
  {
   "cell_type": "code",
   "execution_count": null,
   "id": "22b676a7",
   "metadata": {},
   "outputs": [],
   "source": [
    "# 12. Write a program that takes a comma-separated string of items as input. Split the string into a list of individual items \n",
    "# and print each item."
   ]
  },
  {
   "cell_type": "code",
   "execution_count": 30,
   "id": "7a96e339",
   "metadata": {},
   "outputs": [
    {
     "name": "stdout",
     "output_type": "stream",
     "text": [
      "Enter a comma-separated string: shalni,kumari,saroj,singh\n",
      "shalni\n",
      "kumari\n",
      "saroj\n",
      "singh\n"
     ]
    }
   ],
   "source": [
    "string=input(\"Enter a comma-separated string: \")\n",
    "s2=string.split(\",\")\n",
    "\n",
    "for s in s2:\n",
    "    print(s)"
   ]
  },
  {
   "cell_type": "code",
   "execution_count": null,
   "id": "b1d1be8e",
   "metadata": {},
   "outputs": [],
   "source": [
    "# 13. Write a program that takes a filename as input. Check if the filename ends with \".txt\". If it does, print \n",
    "# \"This is a text file.\"; otherwise, print \"This is not necessarily a text file.\""
   ]
  },
  {
   "cell_type": "code",
   "execution_count": 29,
   "id": "0b717c2e",
   "metadata": {},
   "outputs": [
    {
     "name": "stdout",
     "output_type": "stream",
     "text": [
      "python.txt\n"
     ]
    }
   ],
   "source": [
    "import os\n",
    "list1=os.listdir()\n",
    "\n",
    "for l in list1:\n",
    "    if l.endswith(\".txt\"):\n",
    "        print(l)"
   ]
  },
  {
   "cell_type": "code",
   "execution_count": null,
   "id": "a3178d8b",
   "metadata": {},
   "outputs": [],
   "source": [
    "# 14. Write a program that takes a line of text as input. Check if the line starts with \"Subject: \". If it does, \n",
    "# print \"This line is likely an email subject.\"; otherwise, print \"This line does not appear to be an email subject.\""
   ]
  },
  {
   "cell_type": "code",
   "execution_count": 31,
   "id": "bbd937d6",
   "metadata": {},
   "outputs": [
    {
     "name": "stdout",
     "output_type": "stream",
     "text": [
      "Enter line of string: Subject : leave\n",
      "This line is likely an email subject.\n"
     ]
    }
   ],
   "source": [
    "string=input(\"Enter line of string: \")\n",
    "\n",
    "if string.startswith(\"Subject\"):\n",
    "    print(\"This line is likely an email subject.\")\n",
    "else:\n",
    "    print(\"This line does not appear to be an email subject.\")"
   ]
  },
  {
   "cell_type": "code",
   "execution_count": null,
   "id": "8e03c2e1",
   "metadata": {},
   "outputs": [],
   "source": [
    "# 15. Write a program that takes a string as input and checks if all characters in the string are alphanumeric. \n",
    "# Print \"Alphanumeric string\" or \"Not an alphanumeric string.\" "
   ]
  },
  {
   "cell_type": "code",
   "execution_count": 21,
   "id": "eafda527",
   "metadata": {},
   "outputs": [
    {
     "name": "stdout",
     "output_type": "stream",
     "text": [
      "Enter string: Shhakhak4\n",
      "Alphanumeric string\n"
     ]
    }
   ],
   "source": [
    "string=input(\"Enter string: \")\n",
    "if string.isalnum():\n",
    "    print(\"Alphanumeric string\")\n",
    "else:\n",
    "    print(\"Not an alphanumeric string\")"
   ]
  },
  {
   "cell_type": "code",
   "execution_count": 11,
   "id": "4e4d590e",
   "metadata": {},
   "outputs": [],
   "source": [
    "# 16. Write a program that takes a string as input and checks if all characters in the string are alphabetic. \n",
    "# Print \"Alphabetic string\" or \"Not an alphabetic string.\""
   ]
  },
  {
   "cell_type": "code",
   "execution_count": 22,
   "id": "6674118a",
   "metadata": {},
   "outputs": [
    {
     "name": "stdout",
     "output_type": "stream",
     "text": [
      "Enter string: sgha kjuih\n",
      "Not an aplhabetic string\n"
     ]
    }
   ],
   "source": [
    "string=input(\"Enter string: \")\n",
    "if string.isalpha():\n",
    "    print(\"Alphabetic string\")\n",
    "else:\n",
    "    print(\"Not an aplhabetic string\")  #because it contain whitespace"
   ]
  },
  {
   "cell_type": "code",
   "execution_count": null,
   "id": "38f2c6ef",
   "metadata": {},
   "outputs": [],
   "source": [
    "# 17. Write a program that takes a string as input and checks if all characters in the string are decimal digits. \n",
    "# Print \"Decimal string\" or \"Not a decimal string.\""
   ]
  },
  {
   "cell_type": "code",
   "execution_count": 23,
   "id": "760339cf",
   "metadata": {},
   "outputs": [
    {
     "name": "stdout",
     "output_type": "stream",
     "text": [
      "Enter string: eywte34\n",
      "Not a decimal string\n"
     ]
    }
   ],
   "source": [
    "string=input(\"Enter string: \")\n",
    "if string.isdecimal():\n",
    "    print(\"Decimal string\")\n",
    "else:\n",
    "    print(\"Not a decimal string\")   # because it contain alphabets "
   ]
  },
  {
   "cell_type": "code",
   "execution_count": null,
   "id": "5ac4acae",
   "metadata": {},
   "outputs": [],
   "source": [
    "# 18. Write a program that takes a string as input and checks if all characters in the string are digits. \n",
    "# Print \"Digit string\" or \"Not a digit string.\""
   ]
  },
  {
   "cell_type": "code",
   "execution_count": 24,
   "id": "6f371014",
   "metadata": {},
   "outputs": [
    {
     "name": "stdout",
     "output_type": "stream",
     "text": [
      "Enter string: 47253617\n",
      "Digit string\n"
     ]
    }
   ],
   "source": [
    "string=input(\"Enter string: \")\n",
    "if string.isdigit():\n",
    "    print(\"Digit string\")\n",
    "else:\n",
    "    print(\"Not a digit string\")"
   ]
  },
  {
   "cell_type": "code",
   "execution_count": 12,
   "id": "902e1da3",
   "metadata": {},
   "outputs": [],
   "source": [
    "# 19. Write a program that takes a string as input and checks if all characters in the string are numeric characters. \n",
    "# Print \"Numeric string\" or \"Not a numeric string"
   ]
  },
  {
   "cell_type": "code",
   "execution_count": 14,
   "id": "9f37160a",
   "metadata": {},
   "outputs": [
    {
     "name": "stdout",
     "output_type": "stream",
     "text": [
      "Enter string: shalni227\n",
      "Not a numeric string\n"
     ]
    }
   ],
   "source": [
    "string=input(\"Enter string: \")\n",
    "if string.isnumeric():\n",
    "    print(\"Numeric String\")\n",
    "else:\n",
    "    print(\"Not a numeric string\")"
   ]
  },
  {
   "cell_type": "code",
   "execution_count": null,
   "id": "59e001a4",
   "metadata": {},
   "outputs": [],
   "source": [
    "# 20. Write a program that takes a string as input. Check if all cased characters in the string are lowercase. \n",
    "# If they are, print \"All lowercase\"; otherwise, print \"Not all lowercase.\""
   ]
  },
  {
   "cell_type": "code",
   "execution_count": 16,
   "id": "3cbf5a37",
   "metadata": {},
   "outputs": [
    {
     "name": "stdout",
     "output_type": "stream",
     "text": [
      "Enter string: shalni224\n",
      "All lowercase\n"
     ]
    }
   ],
   "source": [
    "string=input(\"Enter string: \")\n",
    "if string.islower():\n",
    "    print(\"All lowercase\")\n",
    "else:\n",
    "    print(\"Not all lowercase\")"
   ]
  },
  {
   "cell_type": "code",
   "execution_count": null,
   "id": "f8a92efb",
   "metadata": {},
   "outputs": [],
   "source": [
    "# 21. Write a program that takes a string as input. Check if all cased characters in the string are uppercase. \n",
    "# If they are, print \"All uppercase\"; otherwise, print \"Not all uppercase.\""
   ]
  },
  {
   "cell_type": "code",
   "execution_count": 18,
   "id": "e09fb811",
   "metadata": {},
   "outputs": [
    {
     "name": "stdout",
     "output_type": "stream",
     "text": [
      "Enter string: SFRHBL\n",
      "All uppercase\n"
     ]
    }
   ],
   "source": [
    "string=input(\"Enter string: \")\n",
    "if string.isupper():\n",
    "    print(\"All uppercase\")\n",
    "else:\n",
    "    print(\"Not all uppercase\")"
   ]
  },
  {
   "cell_type": "code",
   "execution_count": null,
   "id": "cca13882",
   "metadata": {},
   "outputs": [],
   "source": [
    "# 22. Write a program that takes a string as input. Check if the string is in title case. If it is, print \"Title case string\";\n",
    "# otherwise, print \"Not a title case string.\""
   ]
  },
  {
   "cell_type": "code",
   "execution_count": 19,
   "id": "70fc2aaa",
   "metadata": {},
   "outputs": [
    {
     "name": "stdout",
     "output_type": "stream",
     "text": [
      "Enter string: Shalni Kumari\n",
      "Title case string\n"
     ]
    }
   ],
   "source": [
    "string=input(\"Enter string: \")\n",
    "if string.istitle():\n",
    "    print(\"Title case string\")\n",
    "else:\n",
    "    print(\"Not a title case string\")"
   ]
  },
  {
   "cell_type": "code",
   "execution_count": null,
   "id": "27a3f0d5",
   "metadata": {},
   "outputs": [],
   "source": [
    "# 23. Write a program that takes a string as input. Check if all characters in the string are whitespace characters. \n",
    "# If they are, print \"Whitespace string\"; otherwise, print \"Not a whitespace string.\""
   ]
  },
  {
   "cell_type": "code",
   "execution_count": 20,
   "id": "efdaec2a",
   "metadata": {},
   "outputs": [
    {
     "name": "stdout",
     "output_type": "stream",
     "text": [
      "Enter string:      \n",
      "Whitespace string\n"
     ]
    }
   ],
   "source": [
    "string=input(\"Enter string: \")\n",
    "if string.isspace():\n",
    "    print(\"Whitespace string\")\n",
    "else:\n",
    "    print(\"Not a whitespace string\")"
   ]
  },
  {
   "cell_type": "code",
   "execution_count": 13,
   "id": "66b3f36a",
   "metadata": {},
   "outputs": [],
   "source": [
    "# 25. Write a program that takes a string and a width as input. Center the string within the specified width, \n",
    "# using '*' as the fill character, and print the result."
   ]
  },
  {
   "cell_type": "code",
   "execution_count": 9,
   "id": "7f8d32a8",
   "metadata": {},
   "outputs": [
    {
     "name": "stdout",
     "output_type": "stream",
     "text": [
      "Enter first string: shalni\n",
      "enter length: 11\n",
      "***shalni**\n"
     ]
    }
   ],
   "source": [
    "string=input(\"Enter first string: \")\n",
    "length=int(input(\"enter length: \"))\n",
    "new=string.center(length,\"*\")\n",
    "print(new)"
   ]
  },
  {
   "cell_type": "code",
   "execution_count": null,
   "id": "fba348be",
   "metadata": {},
   "outputs": [],
   "source": [
    "# 26. Write a program that takes two strings as input. Convert both strings to their casefolded forms and then check if they \n",
    "# are equal. Print \"Case-insensitive match\" or \"No case-insensitive match.\""
   ]
  },
  {
   "cell_type": "code",
   "execution_count": 5,
   "id": "da87e194",
   "metadata": {},
   "outputs": [
    {
     "name": "stdout",
     "output_type": "stream",
     "text": [
      "Enter first string: kumari\n",
      "Enter second string: kumaRI\n",
      "case-insensitive match\n"
     ]
    }
   ],
   "source": [
    "string1=input(\"Enter first string: \")\n",
    "string2=input(\"Enter second string: \")\n",
    "\n",
    "if string1.casefold()==string2.casefold():\n",
    "    print(\"case-insensitive match\")\n",
    "else:\n",
    "    print(\"no case-insensitive match\")    "
   ]
  }
 ],
 "metadata": {
  "kernelspec": {
   "display_name": "Python 3 (ipykernel)",
   "language": "python",
   "name": "python3"
  },
  "language_info": {
   "codemirror_mode": {
    "name": "ipython",
    "version": 3
   },
   "file_extension": ".py",
   "mimetype": "text/x-python",
   "name": "python",
   "nbconvert_exporter": "python",
   "pygments_lexer": "ipython3",
   "version": "3.9.12"
  }
 },
 "nbformat": 4,
 "nbformat_minor": 5
}
