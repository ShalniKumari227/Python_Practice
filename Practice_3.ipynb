{
 "cells": [
  {
   "cell_type": "code",
   "execution_count": 1,
   "id": "30ff3bf3",
   "metadata": {},
   "outputs": [],
   "source": [
    "# 1.WAP to demonstrate all arthimetic operations with two inputs."
   ]
  },
  {
   "cell_type": "code",
   "execution_count": 2,
   "id": "4529aa4e",
   "metadata": {},
   "outputs": [
    {
     "name": "stdout",
     "output_type": "stream",
     "text": [
      "Enter first number:4\n",
      "enter second number:5\n",
      "sum of numbers are 9\n",
      "difference of numbers are -1\n",
      "product of numbers are 20\n",
      "division of numbers 0 as interger\n",
      "division of numbers are 0.8 as float\n",
      "exponential of numbers are 1024 i.e., 4 to the power of 5 \n"
     ]
    }
   ],
   "source": [
    "a=int(input(\"Enter first number:\"))\n",
    "b=int(input(\"enter second number:\"))\n",
    "print(f\"sum of numbers are {a+b}\")\n",
    "print(f\"difference of numbers are {a-b}\")\n",
    "print(f\"product of numbers are {a*b}\")\n",
    "print(f\"division of numbers {a//b} as interger\")\n",
    "print(f\"division of numbers are {a/b} as float\")\n",
    "print(f\"exponential of numbers are {a**b} i.e., {a} to the power of {b} \")"
   ]
  },
  {
   "cell_type": "code",
   "execution_count": 3,
   "id": "bde4310b",
   "metadata": {},
   "outputs": [],
   "source": [
    "# 2.Checks if the number is divisible by both 3 and 5 by logical operators."
   ]
  },
  {
   "cell_type": "code",
   "execution_count": 4,
   "id": "80e3d26c",
   "metadata": {},
   "outputs": [
    {
     "name": "stdout",
     "output_type": "stream",
     "text": [
      "Enter a number:6\n",
      "6 is divisible by only 3.\n"
     ]
    }
   ],
   "source": [
    "num=int(input(\"Enter a number:\"))\n",
    "if num%3==0 and num%5==0:\n",
    "    print(f\"{num} is divisible by both 3 and 5.\")\n",
    "elif num%3==0:\n",
    "    print(f\"{num} is divisible by only 3.\")\n",
    "elif num%5==0:\n",
    "    print(f\"{num} is divisible by only 5.\")\n",
    "else:\n",
    "    print(f\"{num} is not divisible by any 3 or 5.\")"
   ]
  },
  {
   "cell_type": "code",
   "execution_count": 5,
   "id": "f2418ed5",
   "metadata": {},
   "outputs": [],
   "source": [
    "# 3.Print true if the person is eligible to vote(age>=18) otherwise false."
   ]
  },
  {
   "cell_type": "code",
   "execution_count": 6,
   "id": "5c447776",
   "metadata": {},
   "outputs": [
    {
     "name": "stdout",
     "output_type": "stream",
     "text": [
      "Enter your age: 20\n",
      "You are eligible to vote.\n"
     ]
    }
   ],
   "source": [
    "age=int(input(\"Enter your age: \"))\n",
    "if age>=18:\n",
    "    print(\"You are eligible to vote.\")\n",
    "else :\n",
    "    print(\"No, you are not eligible.\")"
   ]
  },
  {
   "cell_type": "code",
   "execution_count": 7,
   "id": "adeb0d2b",
   "metadata": {},
   "outputs": [],
   "source": [
    "# 4.find the greatest of three numbers."
   ]
  },
  {
   "cell_type": "code",
   "execution_count": 9,
   "id": "06fd92d3",
   "metadata": {},
   "outputs": [
    {
     "name": "stdout",
     "output_type": "stream",
     "text": [
      "Enter first number: 5\n",
      "Enter second number: 5\n",
      "Enter third number: 6\n",
      "largest number is 6\n"
     ]
    }
   ],
   "source": [
    "n1=int(input(\"Enter first number: \"))\n",
    "n2=int(input(\"Enter second number: \"))\n",
    "n3=int(input(\"Enter third number: \"))\n",
    "\n",
    "if n1>n2:\n",
    "    if n1>n3:\n",
    "        print(\"largest number is\",n1)\n",
    "    elif n3>n1:\n",
    "        print(\"largest number is\",n3)\n",
    "    else:\n",
    "        print(f\"{n1} and {n3} are greater.\")\n",
    "elif n2>n1:\n",
    "    if n2>n3:\n",
    "        print(\"largest number is\",n2)\n",
    "    elif n3>n2:\n",
    "        print(\"largest number is\",n3)\n",
    "    else:\n",
    "        print(f\"{n2} and {n3} are greater.\")\n",
    "else:\n",
    "    if n1>n3:\n",
    "        print(f\"{n1} and {n2} are greater.\")\n",
    "    elif n3>n1:\n",
    "        print(\"largest number is\",n3)\n",
    "    else:\n",
    "        print(f\"{n1} and {n3} and {n3} are same.\")"
   ]
  },
  {
   "cell_type": "code",
   "execution_count": 10,
   "id": "8253a6c7",
   "metadata": {},
   "outputs": [],
   "source": [
    "# 5.Check whether number is positive, negative or zero."
   ]
  },
  {
   "cell_type": "code",
   "execution_count": 11,
   "id": "db0b8d57",
   "metadata": {},
   "outputs": [
    {
     "name": "stdout",
     "output_type": "stream",
     "text": [
      "Enter a number : 6\n",
      "6 is positive\n"
     ]
    }
   ],
   "source": [
    "num=int(input(\"Enter a number : \"))\n",
    "\n",
    "if num>0:\n",
    "    print(f'{num} is positive')\n",
    "elif num<0:\n",
    "    print(f'{num} is negative')\n",
    "else:\n",
    "    print(f'{num} is zero')"
   ]
  },
  {
   "cell_type": "code",
   "execution_count": 12,
   "id": "e7886a47",
   "metadata": {},
   "outputs": [],
   "source": [
    "# 6.WAP to assign grades based on marks(if else ladder)"
   ]
  },
  {
   "cell_type": "code",
   "execution_count": 13,
   "id": "431730eb",
   "metadata": {},
   "outputs": [
    {
     "name": "stdout",
     "output_type": "stream",
     "text": [
      "Enter your marks: 56\n",
      "you're fail! Better luck next time.\n"
     ]
    }
   ],
   "source": [
    "marks=int(input(\"Enter your marks: \"))\n",
    "\n",
    "if marks>90 and marks<=100:\n",
    "    print(\"your grade is A\")\n",
    "elif marks>80 and marks<=90:\n",
    "    print(\"your grade is B\")\n",
    "elif marks>70 and marks<=80:\n",
    "    print(\"your grade is C\")\n",
    "elif marks>60 and marks<=70:\n",
    "    print(\"your grade is D\")\n",
    "else:\n",
    "    print(\"you're fail! Better luck next time.\")"
   ]
  },
  {
   "cell_type": "code",
   "execution_count": 14,
   "id": "6957e647",
   "metadata": {},
   "outputs": [],
   "source": [
    "# 7.check if a year is a leap"
   ]
  },
  {
   "cell_type": "code",
   "execution_count": 15,
   "id": "1f7bb273",
   "metadata": {},
   "outputs": [
    {
     "name": "stdout",
     "output_type": "stream",
     "text": [
      "Enter year: 2024\n",
      "2024 is leap year\n"
     ]
    }
   ],
   "source": [
    "year=int(input(\"Enter year: \"))\n",
    "\n",
    "if (year%4==0 and year%100!=0) or year%400==0:\n",
    "    print(f\"{year} is leap year\")\n",
    "else:\n",
    "    print(f\"{year} is not leap year\")"
   ]
  },
  {
   "cell_type": "code",
   "execution_count": 16,
   "id": "eccaeb98",
   "metadata": {},
   "outputs": [],
   "source": [
    "# 8.take three side of triangle and check if it's valid or not."
   ]
  },
  {
   "cell_type": "code",
   "execution_count": 17,
   "id": "bd571115",
   "metadata": {},
   "outputs": [
    {
     "name": "stdout",
     "output_type": "stream",
     "text": [
      "enter first side: 4\n",
      "enter second side: 4\n",
      "enter third side: 6\n",
      "triangle is valid.\n"
     ]
    }
   ],
   "source": [
    "# sum of two side of a triangle is always greater than third.\n",
    "a=int(input(\"enter first side: \"))\n",
    "b=int(input(\"enter second side: \"))\n",
    "c=int(input(\"enter third side: \"))\n",
    "\n",
    "if a+b>c and b+c>a and a+c>b:\n",
    "    print(\"triangle is valid.\")\n",
    "else:\n",
    "    print(\"triangle is not valid.\")"
   ]
  },
  {
   "cell_type": "code",
   "execution_count": 18,
   "id": "9eb58061",
   "metadata": {},
   "outputs": [],
   "source": [
    "# 9.check if a number is prime or not."
   ]
  },
  {
   "cell_type": "code",
   "execution_count": 19,
   "id": "708fed19",
   "metadata": {},
   "outputs": [
    {
     "name": "stdout",
     "output_type": "stream",
     "text": [
      "enter a number : 56\n",
      "56 is not a prime number.\n"
     ]
    }
   ],
   "source": [
    "num=int(input(\"enter a number : \"))\n",
    "boolean=True\n",
    "\n",
    "for i in range(2,num//2):\n",
    "    if num%i==0:\n",
    "        print(f\"{num} is not a prime number.\")\n",
    "        boolean=False\n",
    "        break\n",
    "if(boolean):\n",
    "    print(f\"{num} is prime number.\")"
   ]
  },
  {
   "cell_type": "code",
   "execution_count": 20,
   "id": "6c537be6",
   "metadata": {},
   "outputs": [],
   "source": [
    "# 10.take a day number (1 to 7) and print corresponding week name."
   ]
  },
  {
   "cell_type": "code",
   "execution_count": 21,
   "id": "fd8a108b",
   "metadata": {},
   "outputs": [
    {
     "name": "stdout",
     "output_type": "stream",
     "text": [
      "Enter 1 to 7 to know the week: 5\n",
      "thrusday\n"
     ]
    }
   ],
   "source": [
    "day=int(input(\"Enter 1 to 7 to know the week: \"))\n",
    "\n",
    "# if day==1:\n",
    "#     print(\"sunday\")\n",
    "# elif day==2:\n",
    "#     print(\"monday\")\n",
    "# elif day==3:\n",
    "#     print(\"tuesday\")\n",
    "# elif day==4:\n",
    "#     print(\"wednesday\")\n",
    "# elif day==5:\n",
    "#     print(\"thrusday\")\n",
    "# elif day==6:\n",
    "#     print(\"friday\")\n",
    "# elif day==7:\n",
    "#     print(\"saturday\")\n",
    "# else:\n",
    "#     print(\"invalid day\")\n",
    "\n",
    "\n",
    "week=[\"sunday\",\"monday\",\"tuesday\",\"wednesday\",\"thrusday\",\"friday\",\"saturday\"]\n",
    "\n",
    "if day>=1 and day<=7:\n",
    "    print(week[day-1])\n",
    "else:\n",
    "    print(\"invalid day\")"
   ]
  },
  {
   "cell_type": "code",
   "execution_count": 22,
   "id": "c6cde840",
   "metadata": {},
   "outputs": [],
   "source": [
    "# 11.check if a character is vowel or consonant."
   ]
  },
  {
   "cell_type": "code",
   "execution_count": 23,
   "id": "98d992e8",
   "metadata": {},
   "outputs": [
    {
     "name": "stdout",
     "output_type": "stream",
     "text": [
      "Enter a single character: y\n",
      "y is consonant\n"
     ]
    }
   ],
   "source": [
    "char=input(\"Enter a single character: \")[0]\n",
    "vowel=\"aeiou\"\n",
    "\n",
    "if char in vowel:\n",
    "    print(f'{char} is vowel')\n",
    "else:\n",
    "    print(f'{char} is consonant')"
   ]
  },
  {
   "cell_type": "code",
   "execution_count": 24,
   "id": "5d44596e",
   "metadata": {},
   "outputs": [],
   "source": [
    "# 12.WAP to check given number is palindrome."
   ]
  },
  {
   "cell_type": "code",
   "execution_count": 25,
   "id": "cb2272c8",
   "metadata": {},
   "outputs": [
    {
     "name": "stdout",
     "output_type": "stream",
     "text": [
      "enter string: rttr\n",
      "yes! string is palindrome.\n"
     ]
    }
   ],
   "source": [
    "def check_palindrome(string):\n",
    "    for i in range(len(string)):\n",
    "        if string[i]==string[len(string)-1-i]:\n",
    "            continue\n",
    "        else:\n",
    "            return False\n",
    "    return True\n",
    "\n",
    "string=input(\"enter string: \")\n",
    "if(check_palindrome(string)):\n",
    "    print(\"yes! string is palindrome.\")\n",
    "else:\n",
    "    print(\"string is not palindrome.\")"
   ]
  },
  {
   "cell_type": "code",
   "execution_count": 28,
   "id": "947707bb",
   "metadata": {},
   "outputs": [],
   "source": [
    "# 13.print multiplication table of a given number."
   ]
  },
  {
   "cell_type": "code",
   "execution_count": 27,
   "id": "d3b5d62d",
   "metadata": {},
   "outputs": [
    {
     "name": "stdout",
     "output_type": "stream",
     "text": [
      "Enter number: 5\n",
      "5 X 1 = 5\n",
      "5 X 2 = 10\n",
      "5 X 3 = 15\n",
      "5 X 4 = 20\n",
      "5 X 5 = 25\n",
      "5 X 6 = 30\n",
      "5 X 7 = 35\n",
      "5 X 8 = 40\n",
      "5 X 9 = 45\n",
      "5 X 10 = 50\n"
     ]
    }
   ],
   "source": [
    "n=int(input(\"Enter number: \"))\n",
    "for i in range(1,11):\n",
    "    print(f\"{n} X {i} = {n*i}\")"
   ]
  }
 ],
 "metadata": {
  "kernelspec": {
   "display_name": "Python 3 (ipykernel)",
   "language": "python",
   "name": "python3"
  },
  "language_info": {
   "codemirror_mode": {
    "name": "ipython",
    "version": 3
   },
   "file_extension": ".py",
   "mimetype": "text/x-python",
   "name": "python",
   "nbconvert_exporter": "python",
   "pygments_lexer": "ipython3",
   "version": "3.9.12"
  }
 },
 "nbformat": 4,
 "nbformat_minor": 5
}
