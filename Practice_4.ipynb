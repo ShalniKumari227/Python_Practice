{
 "cells": [
  {
   "cell_type": "code",
   "execution_count": 1,
   "id": "30ff3bf3",
   "metadata": {},
   "outputs": [],
   "source": [
    "# 1.count number of digits in a given number."
   ]
  },
  {
   "cell_type": "code",
   "execution_count": 1,
   "id": "4529aa4e",
   "metadata": {},
   "outputs": [
    {
     "name": "stdout",
     "output_type": "stream",
     "text": [
      "Enter number:5678\n",
      "number of digits contain is 4.\n"
     ]
    }
   ],
   "source": [
    "num= int(input(\"Enter number:\"))\n",
    "count=0\n",
    "while num>0:\n",
    "    count+=1\n",
    "    num//=10\n",
    "print(f\"number of digits contain is {count}.\")\n",
    "    \n",
    "\n",
    "#if we not change number to positive then it count '-(minus)' also as digit.\n",
    "# if num<0:\n",
    "#     num=-1*num\n",
    "# count=0\n",
    "\n",
    "# Integers are not directly iterable, so converting the number to its string \n",
    "# representation allows access to individual digits as characters.\n",
    "\n",
    "# len() is for intergers\n",
    "# print(len(num))\n",
    "\n",
    "# num=str(num)\n",
    "# len(num)"
   ]
  },
  {
   "cell_type": "code",
   "execution_count": 3,
   "id": "bde4310b",
   "metadata": {},
   "outputs": [],
   "source": [
    "# 2.calculate the sum of digits of a number."
   ]
  },
  {
   "cell_type": "code",
   "execution_count": 2,
   "id": "80e3d26c",
   "metadata": {},
   "outputs": [
    {
     "name": "stdout",
     "output_type": "stream",
     "text": [
      "Enter number: 678\n",
      "sum of digits are 21\n"
     ]
    }
   ],
   "source": [
    "num=int(input(\"Enter number: \"))\n",
    "sum=0\n",
    "\n",
    "while num>0:\n",
    "    sum+=num%10\n",
    "    num//=10\n",
    "print(\"sum of digits are\",sum)"
   ]
  },
  {
   "cell_type": "code",
   "execution_count": 5,
   "id": "f2418ed5",
   "metadata": {},
   "outputs": [],
   "source": [
    "# 3.reverse a given number."
   ]
  },
  {
   "cell_type": "code",
   "execution_count": 3,
   "id": "5c447776",
   "metadata": {},
   "outputs": [
    {
     "name": "stdout",
     "output_type": "stream",
     "text": [
      "Enter number: 543\n",
      "reverse of number is 345\n"
     ]
    }
   ],
   "source": [
    "# as string\n",
    "num=input(\"Enter number: \")\n",
    "\n",
    "# print(f\"reverse of number {num} is\",int(num[::-1]))\n",
    "\n",
    "# as interger\n",
    "num=int(num)\n",
    "rev=0\n",
    "while(num>0):\n",
    "    rev*=10\n",
    "    rev+=num%10\n",
    "    num//=10\n",
    "print(\"reverse of number is\",rev)"
   ]
  },
  {
   "cell_type": "code",
   "execution_count": 7,
   "id": "adeb0d2b",
   "metadata": {},
   "outputs": [],
   "source": [
    "# 4.find factorial of a number using loop."
   ]
  },
  {
   "cell_type": "code",
   "execution_count": 4,
   "id": "06fd92d3",
   "metadata": {},
   "outputs": [
    {
     "name": "stdout",
     "output_type": "stream",
     "text": [
      "Enter number : 65\n",
      "factorial of 65! is 4225\n"
     ]
    }
   ],
   "source": [
    "num=int(input(\"Enter number : \"))\n",
    "f=1\n",
    "for i in range(1,num+1):\n",
    "    if num%i==0:\n",
    "        f*=i\n",
    "print(f\"factorial of {num}! is\",f)"
   ]
  },
  {
   "cell_type": "code",
   "execution_count": 10,
   "id": "8253a6c7",
   "metadata": {},
   "outputs": [],
   "source": [
    "# 5.generate a fibonacci series up to n term."
   ]
  },
  {
   "cell_type": "code",
   "execution_count": 7,
   "id": "db0b8d57",
   "metadata": {},
   "outputs": [
    {
     "name": "stdout",
     "output_type": "stream",
     "text": [
      "Enter number of series you want to print: 10\n",
      "[0, 1, 1, 2, 3, 5, 8, 13, 21, 34]\n"
     ]
    }
   ],
   "source": [
    "n=int(input(\"Enter number of series you want to print: \"))\n",
    "\n",
    "num=[]\n",
    "a,b= 0,1\n",
    "for i in range(n):\n",
    "    num.append(a)\n",
    "    a , b = b, a+b\n",
    "print(num)"
   ]
  },
  {
   "cell_type": "code",
   "execution_count": 6,
   "id": "e7886a47",
   "metadata": {},
   "outputs": [],
   "source": [
    "# 6.check whether number is armstrong number or not."
   ]
  },
  {
   "cell_type": "code",
   "execution_count": 8,
   "id": "431730eb",
   "metadata": {},
   "outputs": [
    {
     "name": "stdout",
     "output_type": "stream",
     "text": [
      "Enter number: 56\n",
      "not armstrong\n"
     ]
    }
   ],
   "source": [
    "def is_arm(n):\n",
    "    l=len(str(n))\n",
    "    num=0\n",
    "    for i in range(l):\n",
    "        d=n%10\n",
    "        num+=(d**l)\n",
    "        n//=10    \n",
    "    return num\n",
    "\n",
    "num=int(input(\"Enter number: \"))\n",
    "if num == is_arm(num):\n",
    "    print(\"armstrong\")\n",
    "else:\n",
    "    print(\"not armstrong\")"
   ]
  },
  {
   "cell_type": "code",
   "execution_count": 14,
   "id": "6957e647",
   "metadata": {},
   "outputs": [],
   "source": [
    "# 7.print the sum of all number divisible by 5 between 1 to 100."
   ]
  },
  {
   "cell_type": "code",
   "execution_count": 9,
   "id": "1f7bb273",
   "metadata": {},
   "outputs": [
    {
     "name": "stdout",
     "output_type": "stream",
     "text": [
      "sum is 1050\n"
     ]
    }
   ],
   "source": [
    "sum=0\n",
    "for i in range(1,101):\n",
    "    if i%5==0:\n",
    "        sum+=i\n",
    "        \n",
    "print(\"sum is\",sum)"
   ]
  },
  {
   "cell_type": "code",
   "execution_count": 16,
   "id": "eccaeb98",
   "metadata": {},
   "outputs": [],
   "source": [
    "# 8.find the maximum element in an array."
   ]
  },
  {
   "cell_type": "code",
   "execution_count": 10,
   "id": "bd571115",
   "metadata": {},
   "outputs": [
    {
     "name": "stdout",
     "output_type": "stream",
     "text": [
      "maximum number is 7\n"
     ]
    }
   ],
   "source": [
    "num=[1,3,5,7,2]\n",
    "max=num[0]\n",
    "\n",
    "for i in num:\n",
    "    if i>max:\n",
    "        max=i\n",
    "print(\"maximum number is\",max)"
   ]
  },
  {
   "cell_type": "code",
   "execution_count": 18,
   "id": "9eb58061",
   "metadata": {},
   "outputs": [],
   "source": [
    "# 9.find the second maximum element in an array."
   ]
  },
  {
   "cell_type": "code",
   "execution_count": 11,
   "id": "708fed19",
   "metadata": {},
   "outputs": [
    {
     "name": "stdout",
     "output_type": "stream",
     "text": [
      "second largest is 7\n"
     ]
    }
   ],
   "source": [
    "num=[2,4,6,8,3,7]\n",
    "max1=0\n",
    "max2=0\n",
    "\n",
    "for i in num:\n",
    "    if i>max1:\n",
    "        max2=max1\n",
    "        max1=i \n",
    "    elif i>max2 and i<max1:\n",
    "        max2=i\n",
    "        \n",
    "print(\"second largest is\",max2)"
   ]
  },
  {
   "cell_type": "code",
   "execution_count": 20,
   "id": "6c537be6",
   "metadata": {},
   "outputs": [],
   "source": [
    "# 10.find the sum of element of an array."
   ]
  },
  {
   "cell_type": "code",
   "execution_count": 12,
   "id": "fd8a108b",
   "metadata": {},
   "outputs": [
    {
     "name": "stdout",
     "output_type": "stream",
     "text": [
      "sum of list is 28\n"
     ]
    }
   ],
   "source": [
    "num=[2,4,6,8,3,5]\n",
    "sum=0\n",
    "\n",
    "for i in num:\n",
    "    sum+=i\n",
    "print(\"sum of list is\",sum)"
   ]
  },
  {
   "cell_type": "code",
   "execution_count": 22,
   "id": "c6cde840",
   "metadata": {},
   "outputs": [],
   "source": [
    "# 11.reverse the element of an array.."
   ]
  },
  {
   "cell_type": "code",
   "execution_count": 13,
   "id": "98d992e8",
   "metadata": {},
   "outputs": [
    {
     "name": "stdout",
     "output_type": "stream",
     "text": [
      "[8, 6, 5, 4, 3, 2]\n"
     ]
    }
   ],
   "source": [
    "n=[2,4,6,8,3,5]\n",
    "# by function which doesn't change original list\n",
    "# rev=sorted(n, reverse=True)\n",
    "# print(rev)\n",
    "\n",
    "# by sort method which change original list\n",
    "n.sort(reverse=True)\n",
    "print(n)\n",
    "    "
   ]
  },
  {
   "cell_type": "code",
   "execution_count": 24,
   "id": "5d44596e",
   "metadata": {},
   "outputs": [],
   "source": [
    "# 12.count the number of odd and even in an array.."
   ]
  },
  {
   "cell_type": "code",
   "execution_count": 14,
   "id": "cb2272c8",
   "metadata": {},
   "outputs": [
    {
     "name": "stdout",
     "output_type": "stream",
     "text": [
      "even numbers in list are 4\n",
      "odd numbers in list are 2\n"
     ]
    }
   ],
   "source": [
    "n=[2,4,6,8,3,5]\n",
    "even=0\n",
    "odd=0\n",
    "for i in n:\n",
    "    if i%2==0:\n",
    "        even+=1\n",
    "    else:\n",
    "        odd+=1\n",
    "print(\"even numbers in list are\",even)\n",
    "print(\"odd numbers in list are\",odd)"
   ]
  },
  {
   "cell_type": "code",
   "execution_count": 28,
   "id": "947707bb",
   "metadata": {},
   "outputs": [],
   "source": [
    "# 13.take a string input and print it in reverse."
   ]
  },
  {
   "cell_type": "code",
   "execution_count": 15,
   "id": "d3b5d62d",
   "metadata": {},
   "outputs": [
    {
     "name": "stdout",
     "output_type": "stream",
     "text": [
      "enter a string: hello\n",
      "olleh\n"
     ]
    }
   ],
   "source": [
    "string=input(\"enter a string: \")\n",
    "\n",
    "print(string[::-1])"
   ]
  }
 ],
 "metadata": {
  "kernelspec": {
   "display_name": "Python 3 (ipykernel)",
   "language": "python",
   "name": "python3"
  },
  "language_info": {
   "codemirror_mode": {
    "name": "ipython",
    "version": 3
   },
   "file_extension": ".py",
   "mimetype": "text/x-python",
   "name": "python",
   "nbconvert_exporter": "python",
   "pygments_lexer": "ipython3",
   "version": "3.9.12"
  }
 },
 "nbformat": 4,
 "nbformat_minor": 5
}
