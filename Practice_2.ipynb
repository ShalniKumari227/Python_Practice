{
 "cells": [
  {
   "cell_type": "code",
   "execution_count": null,
   "id": "c6b215ae",
   "metadata": {},
   "outputs": [],
   "source": [
    "# 1. Write a program that takes a year as input. Determine if the year is a leap year."
   ]
  },
  {
   "cell_type": "code",
   "execution_count": 21,
   "id": "478eb8cb",
   "metadata": {},
   "outputs": [
    {
     "name": "stdout",
     "output_type": "stream",
     "text": [
      "Enter year: 2004\n",
      "2004 is leap year.\n"
     ]
    }
   ],
   "source": [
    "year=int(input(\"Enter year: \"))\n",
    "\n",
    "if (year%4==0 and year%100!=0) or year%400==0:\n",
    "    print(f\"{year} is leap year.\")\n",
    "else:\n",
    "    print(f\"{year} is not leap year.\") "
   ]
  },
  {
   "cell_type": "code",
   "execution_count": null,
   "id": "19d0944a",
   "metadata": {},
   "outputs": [],
   "source": [
    "# 2. Write a program that takes an integer as input and checks if \"The number is divisible by 3 only.\""
   ]
  },
  {
   "cell_type": "code",
   "execution_count": 22,
   "id": "7e2428cb",
   "metadata": {},
   "outputs": [
    {
     "name": "stdout",
     "output_type": "stream",
     "text": [
      "Enter a number: 25\n",
      "25 is not divisible by 3.\n"
     ]
    }
   ],
   "source": [
    "num=int(input(\"Enter a number: \"))\n",
    "\n",
    "if num%3==0:\n",
    "    print(f\"{num} is divisible by 3.\")\n",
    "else:\n",
    "    print(f\"{num} is not divisible by 3.\")   "
   ]
  },
  {
   "cell_type": "code",
   "execution_count": null,
   "id": "7b462591",
   "metadata": {},
   "outputs": [],
   "source": [
    "# 3. Write a program that takes two numbers as input and prints the smaller of the two."
   ]
  },
  {
   "cell_type": "code",
   "execution_count": 23,
   "id": "c208dfef",
   "metadata": {},
   "outputs": [
    {
     "name": "stdout",
     "output_type": "stream",
     "text": [
      "Enter first number: 3\n",
      "Enter second number: 6\n",
      "6 is greater than 3\n"
     ]
    }
   ],
   "source": [
    "n=int(input(\"Enter first number: \"))\n",
    "m=int(input(\"Enter second number: \"))\n",
    "\n",
    "if n>m:\n",
    "    print(f\"{n} is greater than {m}\")\n",
    "elif m>n:\n",
    "    print(f\"{m} is greater than {n}\")\n",
    "else:\n",
    "    print(f\"{n} is equal to {m}\")"
   ]
  },
  {
   "cell_type": "code",
   "execution_count": null,
   "id": "549b6563",
   "metadata": {},
   "outputs": [],
   "source": [
    "# 4. Write a program that takes two numbers as input and prints the larger of the two."
   ]
  },
  {
   "cell_type": "code",
   "execution_count": 24,
   "id": "f29585d3",
   "metadata": {},
   "outputs": [
    {
     "name": "stdout",
     "output_type": "stream",
     "text": [
      "Enter first number: 3\n",
      "Enter second number: 8\n",
      "Largest number : 8\n"
     ]
    }
   ],
   "source": [
    "n=int(input(\"Enter first number: \"))\n",
    "m=int(input(\"Enter second number: \"))\n",
    "\n",
    "if n>m:\n",
    "    print(\"Largest number :\",n)\n",
    "else:\n",
    "    print(\"Largest number :\",m)"
   ]
  },
  {
   "cell_type": "code",
   "execution_count": null,
   "id": "33c16203",
   "metadata": {},
   "outputs": [],
   "source": [
    "# 5. Write a program that takes a single letter as input. Determine if it's a vowel (a, e, i, o, u - consider both uppercase \n",
    "# and lowercase) or a consonant."
   ]
  },
  {
   "cell_type": "code",
   "execution_count": 25,
   "id": "a16a9bae",
   "metadata": {},
   "outputs": [
    {
     "name": "stdout",
     "output_type": "stream",
     "text": [
      "enter a character: r\n",
      "consonant\n"
     ]
    }
   ],
   "source": [
    "char=input(\"enter a character: \")[0]\n",
    "\n",
    "vowel=\"aeiou\"\n",
    "if char in vowel:\n",
    "    print(\"vowel\")\n",
    "else:\n",
    "    print(\"consonant\")"
   ]
  },
  {
   "cell_type": "code",
   "execution_count": null,
   "id": "8886f54a",
   "metadata": {},
   "outputs": [],
   "source": [
    "# 6. Write a program that takes a person's age as input and prints their age category: \"Child\" (0-12), \"Teenager\" (13-19), \n",
    "# \"Adult\" (20-64), or \"Senior\" (65 and above)"
   ]
  },
  {
   "cell_type": "code",
   "execution_count": 26,
   "id": "690dfa3c",
   "metadata": {},
   "outputs": [
    {
     "name": "stdout",
     "output_type": "stream",
     "text": [
      "Enter your age :25\n",
      "Adult\n"
     ]
    }
   ],
   "source": [
    "age=int(input(\"Enter your age :\"))\n",
    "\n",
    "if age>=0 and age<=12:\n",
    "    print(\"Child\")\n",
    "elif age>=13 and age<20:\n",
    "    print(\"Teenager\")\n",
    "elif age>=20 and age<65:\n",
    "    print(\"Adult\")\n",
    "else:\n",
    "    print(\"Senior\")"
   ]
  },
  {
   "cell_type": "code",
   "execution_count": null,
   "id": "a0e92975",
   "metadata": {},
   "outputs": [],
   "source": [
    "# 7. Write a program that takes a password as input. If the length of the password is 8 or more characters, \n",
    "# print \"Strong password\"; otherwise, print \"Weak password.\""
   ]
  },
  {
   "cell_type": "code",
   "execution_count": 27,
   "id": "57b95617",
   "metadata": {},
   "outputs": [
    {
     "name": "stdout",
     "output_type": "stream",
     "text": [
      "Enter password: shalni\n",
      "Weak password\n"
     ]
    }
   ],
   "source": [
    "password=input(\"Enter password: \")\n",
    "\n",
    "if len(password)>=8:\n",
    "    print(\"Strong password\")\n",
    "else:\n",
    "    print(\"Weak password\")"
   ]
  },
  {
   "cell_type": "code",
   "execution_count": null,
   "id": "e9ff77b9",
   "metadata": {},
   "outputs": [],
   "source": [
    "# 8.Convert the given temperature celsius into fahrenheit"
   ]
  },
  {
   "cell_type": "code",
   "execution_count": 28,
   "id": "86ca2a33",
   "metadata": {},
   "outputs": [
    {
     "name": "stdout",
     "output_type": "stream",
     "text": [
      "Enter temperature in celsius: 26\n",
      "26 degree celsius = 78.8 fahrenheit\n"
     ]
    }
   ],
   "source": [
    "temp=int(input(\"Enter temperature in celsius: \"))\n",
    "\n",
    "fah=(temp*1.8)+32\n",
    "fah=round(fah,1)\n",
    "print(f\"{temp} degree celsius = {fah} fahrenheit\")"
   ]
  },
  {
   "cell_type": "code",
   "execution_count": 29,
   "id": "23ab7280",
   "metadata": {},
   "outputs": [],
   "source": [
    "# 9.Swap two numbers without using third variable."
   ]
  },
  {
   "cell_type": "code",
   "execution_count": 32,
   "id": "78bd036e",
   "metadata": {},
   "outputs": [
    {
     "name": "stdout",
     "output_type": "stream",
     "text": [
      "Enter first number: 4\n",
      "Enter second number: 5\n",
      "after conversion: \n",
      "first number is 5 and second number is 4.\n"
     ]
    }
   ],
   "source": [
    "n=int(input(\"Enter first number: \"))\n",
    "m=int(input(\"Enter second number: \"))\n",
    "\n",
    "print(\"after conversion: \")\n",
    "# n=n+m\n",
    "# m=n-m\n",
    "# n=n-m\n",
    "# print(f\"first number is {n} and second number is {m}.\")\n",
    "\n",
    "n,m  =m,n\n",
    "print(f\"first number is {n} and second number is {m}.\")"
   ]
  },
  {
   "cell_type": "code",
   "execution_count": null,
   "id": "e4a1c555",
   "metadata": {},
   "outputs": [],
   "source": [
    "# 10.Take radius from user and print area and circumference."
   ]
  },
  {
   "cell_type": "code",
   "execution_count": 34,
   "id": "d2cc62dd",
   "metadata": {},
   "outputs": [
    {
     "name": "stdout",
     "output_type": "stream",
     "text": [
      "Enter radius: 5\n",
      " Area = 78.5 & circumference = 31.4\n"
     ]
    }
   ],
   "source": [
    "r=int(input(\"Enter radius: \"))\n",
    "area= 3.14*r*r\n",
    "cir=2*r*3.14\n",
    "\n",
    "print(f\" Area = {area} & circumference = {round(cir,1)}\")\n"
   ]
  }
 ],
 "metadata": {
  "kernelspec": {
   "display_name": "Python 3 (ipykernel)",
   "language": "python",
   "name": "python3"
  },
  "language_info": {
   "codemirror_mode": {
    "name": "ipython",
    "version": 3
   },
   "file_extension": ".py",
   "mimetype": "text/x-python",
   "name": "python",
   "nbconvert_exporter": "python",
   "pygments_lexer": "ipython3",
   "version": "3.9.12"
  }
 },
 "nbformat": 4,
 "nbformat_minor": 5
}
