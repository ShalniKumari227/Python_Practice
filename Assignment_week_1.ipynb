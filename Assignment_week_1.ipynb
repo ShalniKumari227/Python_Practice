{
 "cells": [
  {
   "cell_type": "markdown",
   "id": "cfeae78c",
   "metadata": {},
   "source": [
    "\n",
    "# Assignment-1"
   ]
  },
  {
   "cell_type": "code",
   "execution_count": 1,
   "id": "e3456eed",
   "metadata": {},
   "outputs": [
    {
     "name": "stdout",
     "output_type": "stream",
     "text": [
      "10\n",
      "<class 'int'>\n"
     ]
    }
   ],
   "source": [
    "# 1.Assign value 10 to a variable named 'number'. print number and its data type\n",
    "\n",
    "number=10\n",
    "print(number)\n",
    "print(type(number))"
   ]
  },
  {
   "cell_type": "code",
   "execution_count": 2,
   "id": "2c920985",
   "metadata": {},
   "outputs": [
    {
     "name": "stdout",
     "output_type": "stream",
     "text": [
      "hello!!\n",
      "<class 'str'>\n"
     ]
    }
   ],
   "source": [
    "# 2.Assign string \"hello\" to a variable named 'greeting'.\n",
    "# print string and its data type\n",
    "\n",
    "greeting=\"hello!!\"\n",
    "print(greeting)\n",
    "print(type(greeting))"
   ]
  },
  {
   "cell_type": "markdown",
   "id": "e1fe6035",
   "metadata": {},
   "source": [
    "# Assignment-2"
   ]
  },
  {
   "cell_type": "code",
   "execution_count": null,
   "id": "76abb25c",
   "metadata": {},
   "outputs": [],
   "source": [
    "# 1.what is type casting? Give an example."
   ]
  },
  {
   "cell_type": "code",
   "execution_count": null,
   "id": "409ae384",
   "metadata": {},
   "outputs": [],
   "source": [
    "Type-casting is basically used to convert one data type to another.\n",
    "There are two main types of type casting in Python: \n",
    ">>Explicit Type Casting: This involves the programmer manually converting a value's data type using built-in constructor \n",
    "                         functions.\n",
    ">>Implicit Type Casting: This occurs automatically by the Python interpreter during certain operations, typically to prevent\n",
    "                         data loss or errors."
   ]
  },
  {
   "cell_type": "code",
   "execution_count": null,
   "id": "8af201bb",
   "metadata": {},
   "outputs": [],
   "source": [
    "# 2.Convert the following:\n",
    "# a. \"123\" to integer.\n",
    "# b. 25 to string.\n",
    "# c. \"3.14\" to float."
   ]
  },
  {
   "cell_type": "code",
   "execution_count": 55,
   "id": "5afb438a",
   "metadata": {},
   "outputs": [
    {
     "name": "stdout",
     "output_type": "stream",
     "text": [
      "<class 'str'>\n",
      "After conversion\n",
      "<class 'int'>\n"
     ]
    }
   ],
   "source": [
    "n=\"123\"\n",
    "print(type(n))\n",
    "print(\"After conversion\")\n",
    "n1=int(n)\n",
    "print(type(n1))"
   ]
  },
  {
   "cell_type": "code",
   "execution_count": 57,
   "id": "4f79a929",
   "metadata": {},
   "outputs": [
    {
     "name": "stdout",
     "output_type": "stream",
     "text": [
      "<class 'int'>\n",
      "After conversion\n",
      "<class 'str'>\n"
     ]
    }
   ],
   "source": [
    "num=25\n",
    "print(type(num))\n",
    "print(\"After conversion\")\n",
    "string=str(num)\n",
    "print(type(string))"
   ]
  },
  {
   "cell_type": "code",
   "execution_count": 59,
   "id": "5d826fc6",
   "metadata": {},
   "outputs": [
    {
     "name": "stdout",
     "output_type": "stream",
     "text": [
      "<class 'str'>\n",
      "After conversion\n",
      "<class 'float'>\n"
     ]
    }
   ],
   "source": [
    "dec=\"3.14\"\n",
    "print(type(dec))\n",
    "print(\"After conversion\")\n",
    "dec1=float(dec)\n",
    "print(type(dec1))"
   ]
  },
  {
   "cell_type": "code",
   "execution_count": null,
   "id": "89640166",
   "metadata": {},
   "outputs": [],
   "source": [
    "# 3.What error occurs if you try int(\"abc\")? Why? correct it"
   ]
  },
  {
   "cell_type": "code",
   "execution_count": 66,
   "id": "b16e56c5",
   "metadata": {},
   "outputs": [
    {
     "ename": "ValueError",
     "evalue": "invalid literal for int() with base 10: 'abc'",
     "output_type": "error",
     "traceback": [
      "\u001b[1;31m---------------------------------------------------------------------------\u001b[0m",
      "\u001b[1;31mValueError\u001b[0m                                Traceback (most recent call last)",
      "Input \u001b[1;32mIn [66]\u001b[0m, in \u001b[0;36m<cell line: 2>\u001b[1;34m()\u001b[0m\n\u001b[0;32m      1\u001b[0m a\u001b[38;5;241m=\u001b[39m\u001b[38;5;124m\"\u001b[39m\u001b[38;5;124mabc\u001b[39m\u001b[38;5;124m\"\u001b[39m\n\u001b[1;32m----> 2\u001b[0m n\u001b[38;5;241m=\u001b[39m\u001b[38;5;28;43mint\u001b[39;49m\u001b[43m(\u001b[49m\u001b[43ma\u001b[49m\u001b[43m)\u001b[49m\n\u001b[0;32m      3\u001b[0m \u001b[38;5;28mprint\u001b[39m(\u001b[38;5;28mtype\u001b[39m(n))\n",
      "\u001b[1;31mValueError\u001b[0m: invalid literal for int() with base 10: 'abc'"
     ]
    }
   ],
   "source": [
    "a=\"abc\"\n",
    "n=int(a)\n",
    "print(type(n))"
   ]
  },
  {
   "cell_type": "code",
   "execution_count": null,
   "id": "3d5a109f",
   "metadata": {},
   "outputs": [],
   "source": [
    "The error \"ValueError: invalid literal for int() with base 10\" in Python occurs when attempting to convert a string to an \n",
    "integer using the int() function, but the string's content is not a valid representation of an integer in base 10. "
   ]
  },
  {
   "cell_type": "code",
   "execution_count": null,
   "id": "39bebdc2",
   "metadata": {},
   "outputs": [],
   "source": [
    "# 4.How do you create a multi-line string in Python?"
   ]
  },
  {
   "cell_type": "code",
   "execution_count": 67,
   "id": "75ffdf5b",
   "metadata": {},
   "outputs": [
    {
     "name": "stdout",
     "output_type": "stream",
     "text": [
      "Bye Everybody!!\n",
      "Have a good day.\n"
     ]
    }
   ],
   "source": [
    "# we can create multi-line string by using \"\"\" \"\"\" or ''' '''\n",
    "endding=\"\"\"Bye Everybody!!\n",
    "Have a good day.\"\"\"\n",
    "print(endding)"
   ]
  },
  {
   "cell_type": "code",
   "execution_count": null,
   "id": "5729110e",
   "metadata": {},
   "outputs": [],
   "source": [
    "# 5.How do you include a quote inside a string?"
   ]
  },
  {
   "cell_type": "code",
   "execution_count": 62,
   "id": "85b7352d",
   "metadata": {},
   "outputs": [
    {
     "name": "stdout",
     "output_type": "stream",
     "text": [
      "hey!! \"shayam\" how are you?\n"
     ]
    }
   ],
   "source": [
    "# By using escape character we can add quote inside a string.\n",
    "# e.g., \n",
    "stringeg=\"hey!! \\\"shayam\\\" how are you?\"\n",
    "print(stringeg)"
   ]
  },
  {
   "cell_type": "code",
   "execution_count": null,
   "id": "2fdcd0d7",
   "metadata": {},
   "outputs": [],
   "source": [
    "# 6.Convert price = \"99.99\" to a float."
   ]
  },
  {
   "cell_type": "code",
   "execution_count": 61,
   "id": "2f60f7a3",
   "metadata": {},
   "outputs": [
    {
     "name": "stdout",
     "output_type": "stream",
     "text": [
      "<class 'float'>\n"
     ]
    }
   ],
   "source": [
    "price=\"99.99\"\n",
    "decimal=float(price)\n",
    "print(type(decimal))"
   ]
  },
  {
   "cell_type": "code",
   "execution_count": null,
   "id": "edacc722",
   "metadata": {},
   "outputs": [],
   "source": [
    "# 7.Create a string: \"I'm learning \"Python\" use escape charachers to print."
   ]
  },
  {
   "cell_type": "code",
   "execution_count": 60,
   "id": "776f1fa2",
   "metadata": {},
   "outputs": [
    {
     "name": "stdout",
     "output_type": "stream",
     "text": [
      "I'm learning \"Python\".\n"
     ]
    }
   ],
   "source": [
    "string=\"I'm learning \\\"Python\\\".\"\n",
    "print(string)"
   ]
  },
  {
   "cell_type": "code",
   "execution_count": 50,
   "id": "dcf36a31",
   "metadata": {},
   "outputs": [],
   "source": [
    "# 8.what is raw string? what is its use?"
   ]
  },
  {
   "cell_type": "code",
   "execution_count": null,
   "id": "a114e47c",
   "metadata": {},
   "outputs": [],
   "source": [
    "A raw string is a string literal prefixed with r (or R), which treats backslashes (`\\`) as literal characters, \n",
    "rather than interpreting them as escape sequences. \n",
    "\n",
    "Raw strings are particularly useful in scenarios where backslashes are common and you want to avoid the complexities of \n",
    "escaping them. \n",
    "\n",
    "Common use cases include:\n",
    ">Regular Expressions.\n",
    ">File Paths (especially on Windows).\n",
    ">Strings containing literal backslashes."
   ]
  },
  {
   "cell_type": "markdown",
   "id": "03f426f9",
   "metadata": {},
   "source": [
    "# Assignment-3"
   ]
  },
  {
   "cell_type": "code",
   "execution_count": 1,
   "id": "daab384e",
   "metadata": {},
   "outputs": [],
   "source": [
    "# 1.Question: Write a Python program that takes a string as input and prints its length.\n",
    "# Example Input: \"Hello World\"\n",
    "# Expected Output: The length of the string is: 11"
   ]
  },
  {
   "cell_type": "code",
   "execution_count": 4,
   "id": "311e29c2",
   "metadata": {},
   "outputs": [
    {
     "name": "stdout",
     "output_type": "stream",
     "text": [
      "Length of greet variable is 7\n"
     ]
    }
   ],
   "source": [
    "greet=\"namaste\"\n",
    "print(\"Length of greet variable is\",len(greet))"
   ]
  },
  {
   "cell_type": "code",
   "execution_count": null,
   "id": "cfe633b5",
   "metadata": {},
   "outputs": [],
   "source": [
    "# 2.Question: Given the string data = \"abcdefghijklmnop\", write Python code to:\n",
    "# A. Get the first 5 characters.\n",
    "# B. Get the last 3 characters.\n",
    "# C. Get characters from index 2 to 7 (inclusive of 2, exclusive of 8).\n",
    "# D. Get every second character.\n",
    "# E. Reverse the string."
   ]
  },
  {
   "cell_type": "code",
   "execution_count": 1,
   "id": "5b5d84e9",
   "metadata": {},
   "outputs": [
    {
     "name": "stdout",
     "output_type": "stream",
     "text": [
      "A. abcde\n",
      "B. pon\n",
      "C. cdefgh\n",
      "D. acegikmo\n",
      "E. ponmlkjihgfedcba\n"
     ]
    }
   ],
   "source": [
    "data = \"abcdefghijklmnop\"\n",
    "print(\"A.\",data[:5])\n",
    "print(\"B.\",data[len(data):-4:-1])\n",
    "print(\"C.\",data[2:8])\n",
    "print(\"D.\",data[::2])\n",
    "# print(\"E.\",data[len(data)::-1])\n",
    "print(\"E.\",data[::-1])"
   ]
  },
  {
   "cell_type": "code",
   "execution_count": null,
   "id": "a13b889b",
   "metadata": {},
   "outputs": [],
   "source": [
    "# 3.Question: If you have a string sentence = \"This is a long sentence.\", how would you extract the word \"long\" using slicing?"
   ]
  },
  {
   "cell_type": "code",
   "execution_count": 77,
   "id": "9291fdd5",
   "metadata": {},
   "outputs": [
    {
     "name": "stdout",
     "output_type": "stream",
     "text": [
      "long\n"
     ]
    }
   ],
   "source": [
    "sentence = \"This is a long sentence.\"\n",
    "if \"long\" in sentence:\n",
    "    print(sentence[sentence.index(\"long\"):sentence.index(\"long\")+4])\n",
    "else:\n",
    "    print(f\"{sentence} doesn't contain 'long'.\")"
   ]
  },
  {
   "cell_type": "code",
   "execution_count": 72,
   "id": "cc160d87",
   "metadata": {},
   "outputs": [],
   "source": [
    "# 4.Question: Write a Python program that takes a string as input and prints each character of the string on a new line \n",
    "# using a for loop."
   ]
  },
  {
   "cell_type": "code",
   "execution_count": 18,
   "id": "e9aafdbd",
   "metadata": {},
   "outputs": [
    {
     "name": "stdout",
     "output_type": "stream",
     "text": [
      "h\n",
      "e\n",
      "l\n",
      "l\n",
      "o\n"
     ]
    }
   ],
   "source": [
    "greet=\"hello\"\n",
    "for char in greet:\n",
    "    print(char)"
   ]
  },
  {
   "cell_type": "code",
   "execution_count": null,
   "id": "8cd98bd7",
   "metadata": {},
   "outputs": [],
   "source": [
    "# 5.Question: Modify the program in question 4 to also print the index of each character alongside the character."
   ]
  },
  {
   "cell_type": "code",
   "execution_count": 19,
   "id": "99a30ff5",
   "metadata": {},
   "outputs": [
    {
     "name": "stdout",
     "output_type": "stream",
     "text": [
      "(0, 'h')\n",
      "(1, 'e')\n",
      "(2, 'l')\n",
      "(3, 'l')\n",
      "(4, 'o')\n"
     ]
    }
   ],
   "source": [
    "for char in enumerate(greet):\n",
    "    print(char)"
   ]
  },
  {
   "cell_type": "code",
   "execution_count": null,
   "id": "4938c8d2",
   "metadata": {},
   "outputs": [],
   "source": [
    "# 6.Question: You have the variables product = \"Laptop\" and price = 60,000. Use an f-string to print the following sentence: \n",
    "# \"The Laptop costs 60,000.\""
   ]
  },
  {
   "cell_type": "code",
   "execution_count": 22,
   "id": "6f2a2366",
   "metadata": {},
   "outputs": [
    {
     "name": "stdout",
     "output_type": "stream",
     "text": [
      "The Laptop costs 60,000.\n"
     ]
    }
   ],
   "source": [
    "product=\"Laptop\"\n",
    "price=\"60,000\"\n",
    "print(f\"The {product} costs {price}.\")"
   ]
  },
  {
   "cell_type": "code",
   "execution_count": null,
   "id": "c3adff1c",
   "metadata": {},
   "outputs": [],
   "source": [
    "# 7.Question: Given the variables name = \"vikas\" and score = 85, use an f-string to print: \"vikas's score is 85.\""
   ]
  },
  {
   "cell_type": "code",
   "execution_count": 25,
   "id": "60441ecd",
   "metadata": {},
   "outputs": [
    {
     "name": "stdout",
     "output_type": "stream",
     "text": [
      "vikas's score is 85.\n"
     ]
    }
   ],
   "source": [
    "name=\"vikas\"\n",
    "score=85\n",
    "print(f\"{name}'s score is {score}.\")"
   ]
  },
  {
   "cell_type": "code",
   "execution_count": null,
   "id": "56a5bf84",
   "metadata": {},
   "outputs": [],
   "source": [
    "# 8.Question: Using the .format() method, create the same output as in Question 6: \"The Laptop costs 60,000.\""
   ]
  },
  {
   "cell_type": "code",
   "execution_count": 27,
   "id": "e814ebf2",
   "metadata": {},
   "outputs": [
    {
     "name": "stdout",
     "output_type": "stream",
     "text": [
      "The Laptop costs 60,000.\n"
     ]
    }
   ],
   "source": [
    "print(\"The {} costs {}.\".format(product,price))"
   ]
  },
  {
   "cell_type": "code",
   "execution_count": null,
   "id": "8037b3c9",
   "metadata": {},
   "outputs": [],
   "source": [
    "# 9.Question: Write a Python program that takes a string as input and uses the enumerate() function to print each character\n",
    "# along with its index"
   ]
  },
  {
   "cell_type": "code",
   "execution_count": 28,
   "id": "c8c76a30",
   "metadata": {},
   "outputs": [
    {
     "name": "stdout",
     "output_type": "stream",
     "text": [
      "Enter your name: shalni\n",
      "0 : s\n",
      "1 : h\n",
      "2 : a\n",
      "3 : l\n",
      "4 : n\n",
      "5 : i\n"
     ]
    }
   ],
   "source": [
    "eg=input(\"Enter your name: \")\n",
    "for index,char in enumerate(eg):\n",
    "    print(f\"{index} : {char}\")"
   ]
  },
  {
   "cell_type": "code",
   "execution_count": null,
   "id": "9c64debf",
   "metadata": {},
   "outputs": [],
   "source": [
    "# 10.Question: Write a Python program that takes a string as input and uses the range() function along with a for loop to print \n",
    "# each character of the string in reverse order of their index."
   ]
  },
  {
   "cell_type": "code",
   "execution_count": 51,
   "id": "ccfe63b2",
   "metadata": {},
   "outputs": [
    {
     "name": "stdout",
     "output_type": "stream",
     "text": [
      "How's your day: good\n",
      "Index 3 : Character d\n",
      "Index 2 : Character o\n",
      "Index 1 : Character o\n",
      "Index 0 : Character g\n"
     ]
    }
   ],
   "source": [
    "string=input(\"How's your day: \")\n",
    "for n in range(len(string)-1,-1,-1):\n",
    "#     print(\"reverse of string is\",string[n],end=\"\")\n",
    "    print(f\"Index {n} : Character {string[n]}\")"
   ]
  },
  {
   "cell_type": "markdown",
   "id": "f548cdcb",
   "metadata": {},
   "source": [
    "# Assignment-4"
   ]
  },
  {
   "cell_type": "code",
   "execution_count": null,
   "id": "6a74ef54",
   "metadata": {},
   "outputs": [],
   "source": [
    "# 1. Write a program that takes a year as input. Determine if the year is a leap year."
   ]
  },
  {
   "cell_type": "code",
   "execution_count": 3,
   "id": "950bf522",
   "metadata": {},
   "outputs": [
    {
     "name": "stdout",
     "output_type": "stream",
     "text": [
      "Enter year: 2012\n",
      "2012 is leap year.\n"
     ]
    }
   ],
   "source": [
    "year=int(input(\"Enter year: \"))\n",
    "\n",
    "if (year%4==0 and year%100!=0) or year%400==0:\n",
    "    print(f\"{year} is leap year.\")\n",
    "else:\n",
    "    print(f\"{year} is not leap year.\") "
   ]
  },
  {
   "cell_type": "code",
   "execution_count": null,
   "id": "e3c802fa",
   "metadata": {},
   "outputs": [],
   "source": [
    "# 2. Write a program that takes an integer as input and checks if \"The number is divisible by 3 only.\""
   ]
  },
  {
   "cell_type": "code",
   "execution_count": 5,
   "id": "9726738b",
   "metadata": {},
   "outputs": [
    {
     "name": "stdout",
     "output_type": "stream",
     "text": [
      "Enter a number: 14\n",
      "14 is not divisible by 3.\n"
     ]
    }
   ],
   "source": [
    "num=int(input(\"Enter a number: \"))\n",
    "\n",
    "if num%3==0:\n",
    "    print(f\"{num} is divisible by 3.\")\n",
    "else:\n",
    "    print(f\"{num} is not divisible by 3.\")    "
   ]
  },
  {
   "cell_type": "code",
   "execution_count": null,
   "id": "c7a707e8",
   "metadata": {},
   "outputs": [],
   "source": [
    "# 3. Write a program that takes two numbers as input and prints the smaller of the two."
   ]
  },
  {
   "cell_type": "code",
   "execution_count": 7,
   "id": "06caac5f",
   "metadata": {},
   "outputs": [
    {
     "name": "stdout",
     "output_type": "stream",
     "text": [
      "Enter first number: 3\n",
      "Enter second number: 3\n",
      "3 is equal to 3\n"
     ]
    }
   ],
   "source": [
    "n=int(input(\"Enter first number: \"))\n",
    "m=int(input(\"Enter second number: \"))\n",
    "\n",
    "if n>m:\n",
    "    print(f\"{n} is greater than {m}\")\n",
    "elif m>n:\n",
    "    print(f\"{m} is greater than {n}\")\n",
    "else:\n",
    "    print(f\"{n} is equal to {m}\")"
   ]
  },
  {
   "cell_type": "code",
   "execution_count": null,
   "id": "7b5560f0",
   "metadata": {},
   "outputs": [],
   "source": [
    "# 4. Write a program that takes two numbers as input and prints the larger of the two."
   ]
  },
  {
   "cell_type": "code",
   "execution_count": 9,
   "id": "b47b9164",
   "metadata": {},
   "outputs": [
    {
     "name": "stdout",
     "output_type": "stream",
     "text": [
      "Enter first number: 3\n",
      "Enter second number: 4\n",
      "Largest number : 4\n"
     ]
    }
   ],
   "source": [
    "n=int(input(\"Enter first number: \"))\n",
    "m=int(input(\"Enter second number: \"))\n",
    "\n",
    "if n>m:\n",
    "    print(\"Largest number :\",n)\n",
    "else:\n",
    "    print(\"Largest number :\",m)"
   ]
  },
  {
   "cell_type": "code",
   "execution_count": null,
   "id": "9b9cd488",
   "metadata": {},
   "outputs": [],
   "source": [
    "# 5. Write a program that takes a single letter as input. Determine if it's a vowel (a, e, i, o, u) - consider both uppercase \n",
    "# and lowercase) or a consonant."
   ]
  },
  {
   "cell_type": "code",
   "execution_count": 15,
   "id": "792c664d",
   "metadata": {},
   "outputs": [
    {
     "name": "stdout",
     "output_type": "stream",
     "text": [
      "enter a character: w\n",
      "consonant\n"
     ]
    }
   ],
   "source": [
    "char=input(\"enter a character: \")[0]\n",
    "\n",
    "vowel=\"aeiou\"\n",
    "if char in vowel:\n",
    "    print(\"vowel\")\n",
    "else:\n",
    "    print(\"consonant\")"
   ]
  },
  {
   "cell_type": "code",
   "execution_count": null,
   "id": "85893cc8",
   "metadata": {},
   "outputs": [],
   "source": [
    "# 6. Write a program that takes a person's age as input and prints their age category: \"Child\" (0-12), \"Teenager\" (13-19), \n",
    "# \"Adult\" (20-64), or \"Senior\" (65 and above)"
   ]
  },
  {
   "cell_type": "code",
   "execution_count": 16,
   "id": "1881ebb3",
   "metadata": {},
   "outputs": [
    {
     "name": "stdout",
     "output_type": "stream",
     "text": [
      "Enter your age :45\n",
      "Adult\n"
     ]
    }
   ],
   "source": [
    "age=int(input(\"Enter your age :\"))\n",
    "\n",
    "if age>=0 and age<=12:\n",
    "    print(\"Child\")\n",
    "elif age>=13 and age<20:\n",
    "    print(\"Teenager\")\n",
    "elif age>=20 and age<65:\n",
    "    print(\"Adult\")\n",
    "else:\n",
    "    print(\"Senior\")"
   ]
  },
  {
   "cell_type": "code",
   "execution_count": 10,
   "id": "7bdffaf7",
   "metadata": {},
   "outputs": [],
   "source": [
    "# 7. Write a program that takes a password as input. If the length of the password is 8 or more characters, \n",
    "# print \"Strong password\"; otherwise, print \"Weak password.\""
   ]
  },
  {
   "cell_type": "code",
   "execution_count": 17,
   "id": "025c7acd",
   "metadata": {},
   "outputs": [
    {
     "name": "stdout",
     "output_type": "stream",
     "text": [
      "Enter password: rf57 nbm\n",
      "Strong password\n"
     ]
    }
   ],
   "source": [
    "password=input(\"Enter password: \")\n",
    "\n",
    "if len(password)>=8:\n",
    "    print(\"Strong password\")\n",
    "else:\n",
    "    print(\"Weak password\")"
   ]
  }
 ],
 "metadata": {
  "kernelspec": {
   "display_name": "Python 3 (ipykernel)",
   "language": "python",
   "name": "python3"
  },
  "language_info": {
   "codemirror_mode": {
    "name": "ipython",
    "version": 3
   },
   "file_extension": ".py",
   "mimetype": "text/x-python",
   "name": "python",
   "nbconvert_exporter": "python",
   "pygments_lexer": "ipython3",
   "version": "3.9.12"
  }
 },
 "nbformat": 4,
 "nbformat_minor": 5
}
