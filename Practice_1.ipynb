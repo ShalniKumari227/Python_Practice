{
 "cells": [
  {
   "cell_type": "code",
   "execution_count": 1,
   "id": "cfc76e9a",
   "metadata": {},
   "outputs": [],
   "source": [
    "# 1.Question: Write a Python program that takes a string as input and prints its length.\n",
    "# Example Input: \"Hello World\"\n",
    "# Expected Output: The length of the string is: 11"
   ]
  },
  {
   "cell_type": "code",
   "execution_count": 2,
   "id": "23c0998c",
   "metadata": {},
   "outputs": [
    {
     "name": "stdout",
     "output_type": "stream",
     "text": [
      "Length of greet variable is 7\n"
     ]
    }
   ],
   "source": [
    "greet=\"namaste\"\n",
    "print(\"Length of greet variable is\",len(greet))"
   ]
  },
  {
   "cell_type": "code",
   "execution_count": 3,
   "id": "b9c3aee5",
   "metadata": {},
   "outputs": [],
   "source": [
    "# 2.Question: Given the string data = \"abcdefghijklmnop\", write Python code to:\n",
    "# A. Get the first 5 characters.\n",
    "# B. Get the last 3 characters.\n",
    "# C. Get characters from index 2 to 7 (inclusive of 2, exclusive of 8).\n",
    "# D. Get every second character.\n",
    "# E. Reverse the string."
   ]
  },
  {
   "cell_type": "code",
   "execution_count": 4,
   "id": "7fa336cf",
   "metadata": {},
   "outputs": [
    {
     "name": "stdout",
     "output_type": "stream",
     "text": [
      "A. abcde\n",
      "B. pon\n",
      "C. cdefgh\n",
      "D. acegikmo\n",
      "E. ponmlkjihgfedcba\n"
     ]
    }
   ],
   "source": [
    "data = \"abcdefghijklmnop\"\n",
    "print(\"A.\",data[:5])\n",
    "print(\"B.\",data[len(data):-4:-1])\n",
    "print(\"C.\",data[2:8])\n",
    "print(\"D.\",data[::2])\n",
    "# print(\"E.\",data[len(data)::-1])\n",
    "print(\"E.\",data[::-1])"
   ]
  },
  {
   "cell_type": "code",
   "execution_count": 5,
   "id": "d91d4a2c",
   "metadata": {},
   "outputs": [],
   "source": [
    "# 3.Question: If you have a string sentence = \"This is a long sentence.\", how would you extract the word \"long\" using slicing?"
   ]
  },
  {
   "cell_type": "code",
   "execution_count": 6,
   "id": "3a2ad941",
   "metadata": {},
   "outputs": [
    {
     "name": "stdout",
     "output_type": "stream",
     "text": [
      "long\n"
     ]
    }
   ],
   "source": [
    "sentence = \"This is a long sentence.\"\n",
    "if \"long\" in sentence:\n",
    "    print(sentence[sentence.index(\"long\"):sentence.index(\"long\")+4])\n",
    "else:\n",
    "    print(f\"{sentence} doesn't contain 'long'.\")"
   ]
  },
  {
   "cell_type": "code",
   "execution_count": 7,
   "id": "e12d9a12",
   "metadata": {},
   "outputs": [],
   "source": [
    "# 4.Question: Write a Python program that takes a string as input and prints each character of the string on a new line \n",
    "# using a for loop."
   ]
  },
  {
   "cell_type": "code",
   "execution_count": 8,
   "id": "b9874efb",
   "metadata": {},
   "outputs": [
    {
     "name": "stdout",
     "output_type": "stream",
     "text": [
      "h\n",
      "e\n",
      "l\n",
      "l\n",
      "o\n"
     ]
    }
   ],
   "source": [
    "greet=\"hello\"\n",
    "for char in greet:\n",
    "    print(char)"
   ]
  },
  {
   "cell_type": "code",
   "execution_count": 9,
   "id": "020de825",
   "metadata": {},
   "outputs": [],
   "source": [
    "# 5.Question: Modify the program in question 4 to also print the index of each character alongside the character."
   ]
  },
  {
   "cell_type": "code",
   "execution_count": 10,
   "id": "b2072cc0",
   "metadata": {},
   "outputs": [
    {
     "name": "stdout",
     "output_type": "stream",
     "text": [
      "(0, 'h')\n",
      "(1, 'e')\n",
      "(2, 'l')\n",
      "(3, 'l')\n",
      "(4, 'o')\n"
     ]
    }
   ],
   "source": [
    "for char in enumerate(greet):\n",
    "    print(char)"
   ]
  },
  {
   "cell_type": "code",
   "execution_count": 11,
   "id": "3d8f7d9f",
   "metadata": {},
   "outputs": [],
   "source": [
    "# 6.Question: You have the variables product = \"Laptop\" and price = 60,000. Use an f-string to print the following sentence: \n",
    "# \"The Laptop costs 60,000.\""
   ]
  },
  {
   "cell_type": "code",
   "execution_count": 12,
   "id": "20e9bfb0",
   "metadata": {},
   "outputs": [
    {
     "name": "stdout",
     "output_type": "stream",
     "text": [
      "The Laptop costs 60,000.\n"
     ]
    }
   ],
   "source": [
    "product=\"Laptop\"\n",
    "price=\"60,000\"\n",
    "print(f\"The {product} costs {price}.\")"
   ]
  },
  {
   "cell_type": "code",
   "execution_count": 13,
   "id": "cc5cc897",
   "metadata": {},
   "outputs": [
    {
     "name": "stdout",
     "output_type": "stream",
     "text": [
      "vikas's score is 85.\n"
     ]
    }
   ],
   "source": [
    "name=\"vikas\"\n",
    "score=85\n",
    "print(f\"{name}'s score is {score}.\")"
   ]
  },
  {
   "cell_type": "code",
   "execution_count": 14,
   "id": "bfb24a80",
   "metadata": {},
   "outputs": [],
   "source": [
    "# 8.Question: Using the .format() method, create the same output as in Question 6: \"The Laptop costs 60,000.\""
   ]
  },
  {
   "cell_type": "code",
   "execution_count": 15,
   "id": "29d6d5d4",
   "metadata": {},
   "outputs": [
    {
     "name": "stdout",
     "output_type": "stream",
     "text": [
      "The Laptop costs 60,000.\n"
     ]
    }
   ],
   "source": [
    "print(\"The {} costs {}.\".format(product,price))"
   ]
  },
  {
   "cell_type": "code",
   "execution_count": 16,
   "id": "632b6df8",
   "metadata": {},
   "outputs": [],
   "source": [
    "# 9.Question: Write a Python program that takes a string as input and uses the enumerate() function to print each character\n",
    "# along with its index"
   ]
  },
  {
   "cell_type": "code",
   "execution_count": 17,
   "id": "feb259c6",
   "metadata": {},
   "outputs": [
    {
     "name": "stdout",
     "output_type": "stream",
     "text": [
      "Enter your name: shalni\n",
      "0 : s\n",
      "1 : h\n",
      "2 : a\n",
      "3 : l\n",
      "4 : n\n",
      "5 : i\n"
     ]
    }
   ],
   "source": [
    "eg=input(\"Enter your name: \")\n",
    "for index,char in enumerate(eg):\n",
    "    print(f\"{index} : {char}\")"
   ]
  },
  {
   "cell_type": "code",
   "execution_count": 18,
   "id": "ce7f7df4",
   "metadata": {},
   "outputs": [],
   "source": [
    "# 10.Question: Write a Python program that takes a string as input and uses the range() function along with a for loop to print \n",
    "# each character of the string in reverse order of their index."
   ]
  },
  {
   "cell_type": "code",
   "execution_count": 19,
   "id": "58db9b0c",
   "metadata": {},
   "outputs": [
    {
     "name": "stdout",
     "output_type": "stream",
     "text": [
      "How's your day: good\n",
      "Index 3 : Character d\n",
      "Index 2 : Character o\n",
      "Index 1 : Character o\n",
      "Index 0 : Character g\n"
     ]
    }
   ],
   "source": [
    "string=input(\"How's your day: \")\n",
    "for n in range(len(string)-1,-1,-1):\n",
    "#     print(\"reverse of string is\",string[n],end=\"\")\n",
    "    print(f\"Index {n} : Character {string[n]}\")"
   ]
  }
 ],
 "metadata": {
  "kernelspec": {
   "display_name": "Python 3 (ipykernel)",
   "language": "python",
   "name": "python3"
  },
  "language_info": {
   "codemirror_mode": {
    "name": "ipython",
    "version": 3
   },
   "file_extension": ".py",
   "mimetype": "text/x-python",
   "name": "python",
   "nbconvert_exporter": "python",
   "pygments_lexer": "ipython3",
   "version": "3.9.12"
  }
 },
 "nbformat": 4,
 "nbformat_minor": 5
}
