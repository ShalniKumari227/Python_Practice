{
 "cells": [
  {
   "cell_type": "code",
   "execution_count": 1,
   "id": "30ff3bf3",
   "metadata": {},
   "outputs": [],
   "source": [
    "# 1.count vowel and consonant in a string."
   ]
  },
  {
   "cell_type": "code",
   "execution_count": 16,
   "id": "4529aa4e",
   "metadata": {},
   "outputs": [
    {
     "name": "stdout",
     "output_type": "stream",
     "text": [
      "vowel = 5\n",
      "consonant = 21\n"
     ]
    }
   ],
   "source": [
    "string=\"abcdefghijklmnopqrstuvwxyz\"\n",
    "vowel=\"aeiou\"\n",
    "v=0\n",
    "c=0\n",
    "for char in string:\n",
    "    if char in vowel:\n",
    "        v+=1\n",
    "    else:\n",
    "        c+=1\n",
    "print(f\"vowel = {v}\")\n",
    "print(f\"consonant = {c}\")"
   ]
  },
  {
   "cell_type": "code",
   "execution_count": 3,
   "id": "bde4310b",
   "metadata": {},
   "outputs": [],
   "source": [
    "# 2.check if sting is palindrome."
   ]
  },
  {
   "cell_type": "code",
   "execution_count": 17,
   "id": "80e3d26c",
   "metadata": {},
   "outputs": [
    {
     "name": "stdout",
     "output_type": "stream",
     "text": [
      "palindrome\n"
     ]
    }
   ],
   "source": [
    "string=\"abcdcba\"\n",
    "palindrome=True\n",
    "\n",
    "for i in range(len(string)):\n",
    "    if string[i] == string[len(string)-1-i]:\n",
    "        continue\n",
    "    else:\n",
    "        print(\"not palindrome\")\n",
    "        palindrome=False\n",
    "        break\n",
    "        \n",
    "if(palindrome):\n",
    "    print(\"palindrome\")"
   ]
  },
  {
   "cell_type": "code",
   "execution_count": 5,
   "id": "f2418ed5",
   "metadata": {},
   "outputs": [],
   "source": [
    "# 3.count the number of words in sentence."
   ]
  },
  {
   "cell_type": "code",
   "execution_count": 18,
   "id": "5c447776",
   "metadata": {},
   "outputs": [
    {
     "name": "stdout",
     "output_type": "stream",
     "text": [
      "['this', 'is', 'my', 'python', 'basic', 'practice']\n",
      "words in sentence is 6\n"
     ]
    }
   ],
   "source": [
    "sentence=\"this is my python basic practice\"\n",
    "list1= sentence.split(\" \")\n",
    "print(list1)\n",
    "print(\"words in sentence is\",len(list1))"
   ]
  },
  {
   "cell_type": "code",
   "execution_count": 7,
   "id": "adeb0d2b",
   "metadata": {},
   "outputs": [],
   "source": [
    "# 4.convert string to uppercase or lowercase."
   ]
  },
  {
   "cell_type": "code",
   "execution_count": 19,
   "id": "06fd92d3",
   "metadata": {},
   "outputs": [
    {
     "name": "stdout",
     "output_type": "stream",
     "text": [
      "THIS IS MY PYTHON BASIC PRACTICE\n",
      "this is my python basic practice\n"
     ]
    }
   ],
   "source": [
    "sentence=\"this is my python basic practice\"\n",
    "upper=sentence.upper()\n",
    "lower=sentence.lower()\n",
    "\n",
    "print(upper)\n",
    "print(lower)"
   ]
  },
  {
   "cell_type": "code",
   "execution_count": 10,
   "id": "8253a6c7",
   "metadata": {},
   "outputs": [],
   "source": [
    "# 5.# convert string to uppercase which is in lowercase or lowercase into uppercase.\n",
    "# ord() to get ascii value or chr() to get character."
   ]
  },
  {
   "cell_type": "code",
   "execution_count": 20,
   "id": "db0b8d57",
   "metadata": {},
   "outputs": [
    {
     "name": "stdout",
     "output_type": "stream",
     "text": [
      "ThIS IS PRaCTIcE"
     ]
    }
   ],
   "source": [
    "s=\"tHis is prActiCe\"\n",
    "\n",
    "for i in range(len(s)):\n",
    "    if s[i].isupper():\n",
    "        v=ord(s[i])\n",
    "        print(chr(v+32),end=\"\")\n",
    "    elif s[i].islower():\n",
    "        v=ord(s[i])\n",
    "        print(chr(v-32),end=\"\")\n",
    "    else:\n",
    "        print(s[i],end=\"\")"
   ]
  },
  {
   "cell_type": "code",
   "execution_count": 6,
   "id": "e7886a47",
   "metadata": {},
   "outputs": [],
   "source": [
    "# 6.check is the string contains alphanumeric, alphabetical, digit, lowercase and uppercase."
   ]
  },
  {
   "cell_type": "code",
   "execution_count": 21,
   "id": "431730eb",
   "metadata": {},
   "outputs": [
    {
     "name": "stdout",
     "output_type": "stream",
     "text": [
      "True\n",
      "True\n",
      "True\n",
      "False\n",
      "True\n"
     ]
    }
   ],
   "source": [
    "s=\"A2\"\n",
    "b=False\n",
    "for i in range(len(s)):\n",
    "    if s[i].isalnum():\n",
    "        b=True\n",
    "print(b)\n",
    "\n",
    "b=False\n",
    "for i in range(len(s)):\n",
    "    if s[i].isalpha():\n",
    "        b=True\n",
    "print(b)\n",
    "\n",
    "b=False\n",
    "for i in range(len(s)):\n",
    "    if s[i].isdigit():\n",
    "        b=True\n",
    "print(b)\n",
    "\n",
    "b=False\n",
    "for i in range(len(s)):\n",
    "    if s[i].islower():\n",
    "        b=True\n",
    "print(b)\n",
    "\n",
    "b=False\n",
    "for i in range(len(s)):\n",
    "    if s[i].isupper():\n",
    "        b=True\n",
    "print(b)\n"
   ]
  },
  {
   "cell_type": "code",
   "execution_count": 14,
   "id": "6957e647",
   "metadata": {},
   "outputs": [],
   "source": [
    "# 7.find the number of specific string occured in a sentence."
   ]
  },
  {
   "cell_type": "code",
   "execution_count": 22,
   "id": "1f7bb273",
   "metadata": {},
   "outputs": [
    {
     "name": "stdout",
     "output_type": "stream",
     "text": [
      "ab occurs 2 times in abcdabcdavb.\n"
     ]
    }
   ],
   "source": [
    "s=\"abcdabcdavb\"\n",
    "s2=\"ab\"\n",
    "# we can count them by using count method\n",
    "# print(s.count(s2))\n",
    "\n",
    "count=0\n",
    "\n",
    "for i in range(len(s)):\n",
    "    new=s[i:len(s2)+i]\n",
    "    if new == s2:\n",
    "        count+=1\n",
    "print(f\"{s2} occurs {count} times in {s}.\")"
   ]
  },
  {
   "cell_type": "code",
   "execution_count": null,
   "id": "860a9e46",
   "metadata": {},
   "outputs": [],
   "source": [
    "# 8.Password validation(must contain one of uppercase, lowercase, digits, and symbol) without regex."
   ]
  },
  {
   "cell_type": "code",
   "execution_count": 27,
   "id": "51364d8c",
   "metadata": {},
   "outputs": [
    {
     "name": "stdout",
     "output_type": "stream",
     "text": [
      "Enter yor password: khu 334y\n",
      "Invalid Password : password doesn't contain whitespace.\n"
     ]
    }
   ],
   "source": [
    "p=input(\"Enter yor password: \")\n",
    "if len(p)<8:\n",
    "    print(\"Invalid Password : length must be greater than 8\")\n",
    "else:\n",
    "    u,l,d,s,e=0,0,0,0,0\n",
    "    for char in p:\n",
    "        if char.isupper():\n",
    "            u+=1\n",
    "        elif char.islower():\n",
    "            l+=1\n",
    "        elif char.isdigit():\n",
    "            d+=1\n",
    "        elif char==\" \":\n",
    "            print(\"Invalid Password : password doesn't contain whitespace.\")\n",
    "            e+=1\n",
    "            break\n",
    "        else:\n",
    "            s+=1\n",
    "    if e==1:\n",
    "        pass\n",
    "    elif u>1 & l>1 & d>1 & s>1:\n",
    "        print(\"valid password\")\n",
    "    else:\n",
    "        print(\"Invalid Password\")\n"
   ]
  },
  {
   "cell_type": "code",
   "execution_count": 32,
   "id": "74dc4049",
   "metadata": {},
   "outputs": [
    {
     "name": "stdout",
     "output_type": "stream",
     "text": [
      "['350081_Claim_Request_Form_Blank.pdf', 'Anaconda Navigator (anaconda3).lnk', 'desktop.ini', 'Jupyter Notebook (anaconda3).lnk', 'Microsoft Edge.lnk', 'ms office', 'MySQL Workbench 8.0 CE.lnk', 'New Microsoft Excel Worksheet.xlsx', 'New Text Document (2).txt', 'New Text Document.txt', 'PAN-AADHAR23033100885901FDRL_ChallanReceipt.pdf', 'PUCHI 2023', 'python-bt', 'RAVINDRA KUMAR', 'Shailesh', 'windowskeyfinder.exe']\n",
      "16\n"
     ]
    }
   ],
   "source": [
    "# 9.count all files in a folder.\n",
    "import os\n",
    "\n",
    "path=r\"C:\\Users\\Admin\\Desktop\"\n",
    "contents = os.listdir(path)\n",
    "print(contents)\n",
    "\n",
    "print(len(contents))"
   ]
  }
 ],
 "metadata": {
  "kernelspec": {
   "display_name": "Python 3 (ipykernel)",
   "language": "python",
   "name": "python3"
  },
  "language_info": {
   "codemirror_mode": {
    "name": "ipython",
    "version": 3
   },
   "file_extension": ".py",
   "mimetype": "text/x-python",
   "name": "python",
   "nbconvert_exporter": "python",
   "pygments_lexer": "ipython3",
   "version": "3.9.12"
  }
 },
 "nbformat": 4,
 "nbformat_minor": 5
}
