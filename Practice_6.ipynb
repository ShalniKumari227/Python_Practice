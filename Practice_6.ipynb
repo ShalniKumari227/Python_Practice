{
 "cells": [
  {
   "cell_type": "markdown",
   "id": "db4ed648",
   "metadata": {},
   "source": [
    "# Assignment-7"
   ]
  },
  {
   "cell_type": "code",
   "execution_count": 1,
   "id": "30ff3bf3",
   "metadata": {},
   "outputs": [],
   "source": [
    "# 1.Create a list of 5 numbers. Print the first and last elements using indexing."
   ]
  },
  {
   "cell_type": "code",
   "execution_count": 2,
   "id": "4529aa4e",
   "metadata": {},
   "outputs": [
    {
     "name": "stdout",
     "output_type": "stream",
     "text": [
      "first element of list is 2\n",
      "last element of list is 8\n"
     ]
    }
   ],
   "source": [
    "l=[2,3,5,7,8]\n",
    "print(\"first element of list is\",l[0])\n",
    "print(\"last element of list is\",l[-1])"
   ]
  },
  {
   "cell_type": "code",
   "execution_count": 3,
   "id": "bde4310b",
   "metadata": {},
   "outputs": [],
   "source": [
    "# 2.Print the list in reverse using slicing."
   ]
  },
  {
   "cell_type": "code",
   "execution_count": 3,
   "id": "80e3d26c",
   "metadata": {},
   "outputs": [
    {
     "name": "stdout",
     "output_type": "stream",
     "text": [
      "[2, 3, 5, 7, 8]\n",
      "reserse order: \n",
      "[8, 7, 5, 3, 2]\n"
     ]
    }
   ],
   "source": [
    "l=[2,3,5,7,8]\n",
    "print(l)\n",
    "print(\"reserse order: \")\n",
    "print(l[::-1])"
   ]
  },
  {
   "cell_type": "code",
   "execution_count": 5,
   "id": "f2418ed5",
   "metadata": {},
   "outputs": [],
   "source": [
    "# 3.Print the elements from index 1 to 3 (inclusive)."
   ]
  },
  {
   "cell_type": "code",
   "execution_count": 4,
   "id": "5c447776",
   "metadata": {},
   "outputs": [
    {
     "name": "stdout",
     "output_type": "stream",
     "text": [
      "[3, 5, 7]\n"
     ]
    }
   ],
   "source": [
    "l=[2,3,5,7,8]\n",
    "print(l[1:4])"
   ]
  },
  {
   "cell_type": "code",
   "execution_count": 7,
   "id": "adeb0d2b",
   "metadata": {},
   "outputs": [],
   "source": [
    "# 4.Find the sum of all elements in the list using a for loop."
   ]
  },
  {
   "cell_type": "code",
   "execution_count": 5,
   "id": "06fd92d3",
   "metadata": {},
   "outputs": [
    {
     "name": "stdout",
     "output_type": "stream",
     "text": [
      "sum of element of list is 25\n"
     ]
    }
   ],
   "source": [
    "l=[2,3,5,7,8]\n",
    "sum=0\n",
    "for i in l:\n",
    "    sum+=i\n",
    "print(\"sum of element of list is\",sum)"
   ]
  },
  {
   "cell_type": "code",
   "execution_count": 10,
   "id": "8253a6c7",
   "metadata": {},
   "outputs": [],
   "source": [
    "# 5.Count how many even numbers are present in the list."
   ]
  },
  {
   "cell_type": "code",
   "execution_count": 6,
   "id": "db0b8d57",
   "metadata": {},
   "outputs": [
    {
     "name": "stdout",
     "output_type": "stream",
     "text": [
      "number of even in list is 2\n"
     ]
    }
   ],
   "source": [
    "l=[2,3,5,7,8]\n",
    "even=0\n",
    "for i in l:\n",
    "    if i%2==0:\n",
    "        even+=1\n",
    "print(\"number of even in list is\",even)"
   ]
  },
  {
   "cell_type": "code",
   "execution_count": 6,
   "id": "e7886a47",
   "metadata": {},
   "outputs": [],
   "source": [
    "# 6.Print only the elements at even index positions."
   ]
  },
  {
   "cell_type": "code",
   "execution_count": 8,
   "id": "431730eb",
   "metadata": {},
   "outputs": [
    {
     "name": "stdout",
     "output_type": "stream",
     "text": [
      "[2, 5, 8]\n"
     ]
    }
   ],
   "source": [
    "l=[2,3,5,7,8]\n",
    "print(l[0::2])"
   ]
  },
  {
   "cell_type": "code",
   "execution_count": 14,
   "id": "6957e647",
   "metadata": {},
   "outputs": [],
   "source": [
    "# 7.Create a list of 5 names. Print each name in uppercase using a for loop."
   ]
  },
  {
   "cell_type": "code",
   "execution_count": 9,
   "id": "1f7bb273",
   "metadata": {},
   "outputs": [
    {
     "name": "stdout",
     "output_type": "stream",
     "text": [
      "SHALNI\n",
      "USHA\n",
      "KHUSHBOO\n",
      "RITU\n",
      "ANCHAL\n"
     ]
    }
   ],
   "source": [
    "names=[\"shalni\",\"usha\",\"khushboo\",\"ritu\",\"anchal\"]\n",
    "for name in names:\n",
    "    print(name.upper())"
   ]
  },
  {
   "cell_type": "code",
   "execution_count": null,
   "id": "860a9e46",
   "metadata": {},
   "outputs": [],
   "source": [
    "# 8.Print the length of the list using len() function."
   ]
  },
  {
   "cell_type": "code",
   "execution_count": 11,
   "id": "51364d8c",
   "metadata": {},
   "outputs": [
    {
     "name": "stdout",
     "output_type": "stream",
     "text": [
      "length of names is 5\n"
     ]
    }
   ],
   "source": [
    "names=[\"shalni\",\"usha\",\"khushboo\",\"ritu\",\"anchal\"]\n",
    "print(\"length of names is\",len(names))"
   ]
  },
  {
   "cell_type": "code",
   "execution_count": 10,
   "id": "74dc4049",
   "metadata": {},
   "outputs": [],
   "source": [
    "# 9.Replace the 3rd element of the list with a new value."
   ]
  },
  {
   "cell_type": "code",
   "execution_count": 15,
   "id": "61d6a285",
   "metadata": {},
   "outputs": [
    {
     "name": "stdout",
     "output_type": "stream",
     "text": [
      "['shalni', 'usha', 'khushi', 'ritu', 'anchal']\n"
     ]
    }
   ],
   "source": [
    "names=[\"shalni\",\"usha\",\"khushboo\",\"ritu\",\"anchal\"]\n",
    "names[2]=\"khushi\"\n",
    "print(names)"
   ]
  }
 ],
 "metadata": {
  "kernelspec": {
   "display_name": "Python 3 (ipykernel)",
   "language": "python",
   "name": "python3"
  },
  "language_info": {
   "codemirror_mode": {
    "name": "ipython",
    "version": 3
   },
   "file_extension": ".py",
   "mimetype": "text/x-python",
   "name": "python",
   "nbconvert_exporter": "python",
   "pygments_lexer": "ipython3",
   "version": "3.9.12"
  }
 },
 "nbformat": 4,
 "nbformat_minor": 5
}
